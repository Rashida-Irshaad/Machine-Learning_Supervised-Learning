{
 "cells": [
  {
   "cell_type": "markdown",
   "id": "229a7ee6",
   "metadata": {},
   "source": [
    "# Course - Supervised Learning"
   ]
  },
  {
   "cell_type": "markdown",
   "id": "61bb9598",
   "metadata": {},
   "source": [
    "###### Author: Sana Rasheed\n",
    "###### Student: Rashida Parveen\n",
    "###### Date: October 20, 2020 \n",
    "###### Submission_Date:Aug 15, 2021\n",
    "##### NOTE: \n",
    "1. Your code MUST execute without any errors.\n",
    "2. You can add more lines in your code as required."
   ]
  },
  {
   "cell_type": "markdown",
   "id": "8ea15306",
   "metadata": {},
   "source": [
    "# Section 1: Basic Statistical Concepts"
   ]
  },
  {
   "cell_type": "markdown",
   "id": "249dd123",
   "metadata": {},
   "source": [
    "# Question 1\n",
    "#### The dataset is loaded for you. Perform the following tasks:\n",
    "\n",
    "1. Compute basic statistical measures for each of the variables from the freeny dataset.\n",
    "2. Construct a correlation matrix for all the variables in the freeny dataset.\n",
    "3. Create a new variable price.income.ratio constructed as a ratio of price.index and income.level. Print its summary statistics."
   ]
  },
  {
   "cell_type": "code",
   "execution_count": 1,
   "id": "21e9b6c6",
   "metadata": {},
   "outputs": [],
   "source": [
    "library(datasets)"
   ]
  },
  {
   "cell_type": "code",
   "execution_count": 2,
   "id": "e173ee34",
   "metadata": {},
   "outputs": [
    {
     "data": {
      "text/html": [
       "<table>\n",
       "<thead><tr><th></th><th scope=col>y</th><th scope=col>lag.quarterly.revenue</th><th scope=col>price.index</th><th scope=col>income.level</th><th scope=col>market.potential</th></tr></thead>\n",
       "<tbody>\n",
       "\t<tr><th scope=row>1962.25</th><td>8.79236</td><td>8.79636</td><td>4.70997</td><td>5.82110</td><td>12.9699</td></tr>\n",
       "\t<tr><th scope=row>1962.5</th><td>8.79137</td><td>8.79236</td><td>4.70217</td><td>5.82558</td><td>12.9733</td></tr>\n",
       "\t<tr><th scope=row>1962.75</th><td>8.81486</td><td>8.79137</td><td>4.68944</td><td>5.83112</td><td>12.9774</td></tr>\n",
       "\t<tr><th scope=row>1963</th><td>8.81301</td><td>8.81486</td><td>4.68558</td><td>5.84046</td><td>12.9806</td></tr>\n",
       "\t<tr><th scope=row>1963.25</th><td>8.90751</td><td>8.81301</td><td>4.64019</td><td>5.85036</td><td>12.9831</td></tr>\n",
       "\t<tr><th scope=row>1963.5</th><td>8.93673</td><td>8.90751</td><td>4.62553</td><td>5.86464</td><td>12.9854</td></tr>\n",
       "</tbody>\n",
       "</table>\n"
      ],
      "text/latex": [
       "\\begin{tabular}{r|lllll}\n",
       "  & y & lag.quarterly.revenue & price.index & income.level & market.potential\\\\\n",
       "\\hline\n",
       "\t1962.25 & 8.79236 & 8.79636 & 4.70997 & 5.82110 & 12.9699\\\\\n",
       "\t1962.5 & 8.79137 & 8.79236 & 4.70217 & 5.82558 & 12.9733\\\\\n",
       "\t1962.75 & 8.81486 & 8.79137 & 4.68944 & 5.83112 & 12.9774\\\\\n",
       "\t1963 & 8.81301 & 8.81486 & 4.68558 & 5.84046 & 12.9806\\\\\n",
       "\t1963.25 & 8.90751 & 8.81301 & 4.64019 & 5.85036 & 12.9831\\\\\n",
       "\t1963.5 & 8.93673 & 8.90751 & 4.62553 & 5.86464 & 12.9854\\\\\n",
       "\\end{tabular}\n"
      ],
      "text/markdown": [
       "\n",
       "| <!--/--> | y | lag.quarterly.revenue | price.index | income.level | market.potential |\n",
       "|---|---|---|---|---|---|\n",
       "| 1962.25 | 8.79236 | 8.79636 | 4.70997 | 5.82110 | 12.9699 |\n",
       "| 1962.5 | 8.79137 | 8.79236 | 4.70217 | 5.82558 | 12.9733 |\n",
       "| 1962.75 | 8.81486 | 8.79137 | 4.68944 | 5.83112 | 12.9774 |\n",
       "| 1963 | 8.81301 | 8.81486 | 4.68558 | 5.84046 | 12.9806 |\n",
       "| 1963.25 | 8.90751 | 8.81301 | 4.64019 | 5.85036 | 12.9831 |\n",
       "| 1963.5 | 8.93673 | 8.90751 | 4.62553 | 5.86464 | 12.9854 |\n",
       "\n"
      ],
      "text/plain": [
       "        y       lag.quarterly.revenue price.index income.level market.potential\n",
       "1962.25 8.79236 8.79636               4.70997     5.82110      12.9699         \n",
       "1962.5  8.79137 8.79236               4.70217     5.82558      12.9733         \n",
       "1962.75 8.81486 8.79137               4.68944     5.83112      12.9774         \n",
       "1963    8.81301 8.81486               4.68558     5.84046      12.9806         \n",
       "1963.25 8.90751 8.81301               4.64019     5.85036      12.9831         \n",
       "1963.5  8.93673 8.90751               4.62553     5.86464      12.9854         "
      ]
     },
     "metadata": {},
     "output_type": "display_data"
    }
   ],
   "source": [
    "head(freeny)"
   ]
  },
  {
   "cell_type": "code",
   "execution_count": 3,
   "id": "c618317f",
   "metadata": {},
   "outputs": [
    {
     "data": {
      "text/html": [
       "9.30630435897436"
      ],
      "text/latex": [
       "9.30630435897436"
      ],
      "text/markdown": [
       "9.30630435897436"
      ],
      "text/plain": [
       "[1] 9.306304"
      ]
     },
     "metadata": {},
     "output_type": "display_data"
    },
    {
     "data": {
      "text/html": [
       "9.28071769230769"
      ],
      "text/latex": [
       "9.28071769230769"
      ],
      "text/markdown": [
       "9.28071769230769"
      ],
      "text/plain": [
       "[1] 9.280718"
      ]
     },
     "metadata": {},
     "output_type": "display_data"
    },
    {
     "data": {
      "text/html": [
       "4.49618153846154"
      ],
      "text/latex": [
       "4.49618153846154"
      ],
      "text/markdown": [
       "4.49618153846154"
      ],
      "text/plain": [
       "[1] 4.496182"
      ]
     },
     "metadata": {},
     "output_type": "display_data"
    },
    {
     "data": {
      "text/html": [
       "6.0385958974359"
      ],
      "text/latex": [
       "6.0385958974359"
      ],
      "text/markdown": [
       "6.0385958974359"
      ],
      "text/plain": [
       "[1] 6.038596"
      ]
     },
     "metadata": {},
     "output_type": "display_data"
    },
    {
     "data": {
      "text/html": [
       "13.0668307692308"
      ],
      "text/latex": [
       "13.0668307692308"
      ],
      "text/markdown": [
       "13.0668307692308"
      ],
      "text/plain": [
       "[1] 13.06683"
      ]
     },
     "metadata": {},
     "output_type": "display_data"
    }
   ],
   "source": [
    "#1.Compute basic statistical measures for each of the variables from the freeny dataset.\n",
    "#MEAN\n",
    "mean(freeny$y)\n",
    "mean(freeny$lag.quarterly.revenue)\n",
    "mean(freeny$price.index)\n",
    "mean(freeny$income.level)\n",
    "mean(freeny$market.potential)"
   ]
  },
  {
   "cell_type": "code",
   "execution_count": 8,
   "id": "22222dd5",
   "metadata": {},
   "outputs": [
    {
     "data": {
      "text/html": [
       "9.31378"
      ],
      "text/latex": [
       "9.31378"
      ],
      "text/markdown": [
       "9.31378"
      ],
      "text/plain": [
       "[1] 9.31378"
      ]
     },
     "metadata": {},
     "output_type": "display_data"
    },
    {
     "data": {
      "text/html": [
       "9.28436"
      ],
      "text/latex": [
       "9.28436"
      ],
      "text/markdown": [
       "9.28436"
      ],
      "text/plain": [
       "[1] 9.28436"
      ]
     },
     "metadata": {},
     "output_type": "display_data"
    },
    {
     "data": {
      "text/html": [
       "4.51018"
      ],
      "text/latex": [
       "4.51018"
      ],
      "text/markdown": [
       "4.51018"
      ],
      "text/plain": [
       "[1] 4.51018"
      ]
     },
     "metadata": {},
     "output_type": "display_data"
    },
    {
     "data": {
      "text/html": [
       "6.06093"
      ],
      "text/latex": [
       "6.06093"
      ],
      "text/markdown": [
       "6.06093"
      ],
      "text/plain": [
       "[1] 6.06093"
      ]
     },
     "metadata": {},
     "output_type": "display_data"
    },
    {
     "data": {
      "text/html": [
       "13.0693"
      ],
      "text/latex": [
       "13.0693"
      ],
      "text/markdown": [
       "13.0693"
      ],
      "text/plain": [
       "[1] 13.0693"
      ]
     },
     "metadata": {},
     "output_type": "display_data"
    }
   ],
   "source": [
    "#MEDIAN\n",
    "median(freeny$y)\n",
    "median(freeny$lag.quarterly.revenue)\n",
    "median(freeny$price.index)\n",
    "median(freeny$income.level)\n",
    "median(freeny$market.potential)"
   ]
  },
  {
   "cell_type": "code",
   "execution_count": 9,
   "id": "0adec9ea",
   "metadata": {},
   "outputs": [
    {
     "data": {
      "text/html": [
       "<strong>8.79137:</strong> 1"
      ],
      "text/latex": [
       "\\textbf{8.79137:} 1"
      ],
      "text/markdown": [
       "**8.79137:** 1"
      ],
      "text/plain": [
       "8.79137 \n",
       "      1 "
      ]
     },
     "metadata": {},
     "output_type": "display_data"
    },
    {
     "data": {
      "text/html": [
       "<strong>8.79137:</strong> 1"
      ],
      "text/latex": [
       "\\textbf{8.79137:} 1"
      ],
      "text/markdown": [
       "**8.79137:** 1"
      ],
      "text/plain": [
       "8.79137 \n",
       "      1 "
      ]
     },
     "metadata": {},
     "output_type": "display_data"
    },
    {
     "data": {
      "text/html": [
       "<strong>4.30909:</strong> 5"
      ],
      "text/latex": [
       "\\textbf{4.30909:} 5"
      ],
      "text/markdown": [
       "**4.30909:** 5"
      ],
      "text/plain": [
       "4.30909 \n",
       "      5 "
      ]
     },
     "metadata": {},
     "output_type": "display_data"
    },
    {
     "data": {
      "text/html": [
       "<strong>5.8211:</strong> 1"
      ],
      "text/latex": [
       "\\textbf{5.8211:} 1"
      ],
      "text/markdown": [
       "**5.8211:** 1"
      ],
      "text/plain": [
       "5.8211 \n",
       "     1 "
      ]
     },
     "metadata": {},
     "output_type": "display_data"
    },
    {
     "data": {
      "text/html": [
       "<strong>12.9699:</strong> 1"
      ],
      "text/latex": [
       "\\textbf{12.9699:} 1"
      ],
      "text/markdown": [
       "**12.9699:** 1"
      ],
      "text/plain": [
       "12.9699 \n",
       "      1 "
      ]
     },
     "metadata": {},
     "output_type": "display_data"
    }
   ],
   "source": [
    "#MODE\n",
    "which.max(table(freeny$y))\n",
    "which.max(table(freeny$lag.quarterly.revenue))\n",
    "which.max(table(freeny$price.index))\n",
    "which.max(table(freeny$income.level))\n",
    "which.max(table(freeny$market.potential))"
   ]
  },
  {
   "cell_type": "code",
   "execution_count": 10,
   "id": "d7cc3597",
   "metadata": {},
   "outputs": [
    {
     "data": {
      "text/html": [
       "1.00287"
      ],
      "text/latex": [
       "1.00287"
      ],
      "text/markdown": [
       "1.00287"
      ],
      "text/plain": [
       "[1] 1.00287"
      ]
     },
     "metadata": {},
     "output_type": "display_data"
    },
    {
     "data": {
      "text/html": [
       "0.983989999999999"
      ],
      "text/latex": [
       "0.983989999999999"
      ],
      "text/markdown": [
       "0.983989999999999"
      ],
      "text/plain": [
       "[1] 0.98399"
      ]
     },
     "metadata": {},
     "output_type": "display_data"
    },
    {
     "data": {
      "text/html": [
       "0.43208"
      ],
      "text/latex": [
       "0.43208"
      ],
      "text/markdown": [
       "0.43208"
      ],
      "text/plain": [
       "[1] 0.43208"
      ]
     },
     "metadata": {},
     "output_type": "display_data"
    },
    {
     "data": {
      "text/html": [
       "0.3792"
      ],
      "text/latex": [
       "0.3792"
      ],
      "text/markdown": [
       "0.3792"
      ],
      "text/plain": [
       "[1] 0.3792"
      ]
     },
     "metadata": {},
     "output_type": "display_data"
    },
    {
     "data": {
      "text/html": [
       "0.196499999999999"
      ],
      "text/latex": [
       "0.196499999999999"
      ],
      "text/markdown": [
       "0.196499999999999"
      ],
      "text/plain": [
       "[1] 0.1965"
      ]
     },
     "metadata": {},
     "output_type": "display_data"
    }
   ],
   "source": [
    "#Range\n",
    "max(freeny$y,na.rm = TRUE) - min(freeny$y,na.rm = TRUE)\n",
    "max(freeny$lag.quarterly.revenue,na.rm= TRUE) - min(freeny$lag.quarterly.revenue,na.rm = TRUE)\n",
    "max(freeny$price.index,na.rm = TRUE) - min(freeny$price.index,na.rm = TRUE)\n",
    "max(freeny$income.level,na.rm = TRUE) - min(freeny$income.level,na.rm = TRUE)\n",
    "max(freeny$market.potential,na.rm = TRUE) - min(freeny$market.potential,na.rm = TRUE)"
   ]
  },
  {
   "cell_type": "code",
   "execution_count": 11,
   "id": "37a4d136",
   "metadata": {},
   "outputs": [
    {
     "data": {
      "text/html": [
       "0.546255"
      ],
      "text/latex": [
       "0.546255"
      ],
      "text/markdown": [
       "0.546255"
      ],
      "text/plain": [
       "[1] 0.546255"
      ]
     },
     "metadata": {},
     "output_type": "display_data"
    },
    {
     "data": {
      "text/html": [
       "0.540929999999999"
      ],
      "text/latex": [
       "0.540929999999999"
      ],
      "text/markdown": [
       "0.540929999999999"
      ],
      "text/plain": [
       "[1] 0.54093"
      ]
     },
     "metadata": {},
     "output_type": "display_data"
    },
    {
     "data": {
      "text/html": [
       "0.21335"
      ],
      "text/latex": [
       "0.21335"
      ],
      "text/markdown": [
       "0.21335"
      ],
      "text/plain": [
       "[1] 0.21335"
      ]
     },
     "metadata": {},
     "output_type": "display_data"
    },
    {
     "data": {
      "text/html": [
       "0.191135000000001"
      ],
      "text/latex": [
       "0.191135000000001"
      ],
      "text/markdown": [
       "0.191135000000001"
      ],
      "text/plain": [
       "[1] 0.191135"
      ]
     },
     "metadata": {},
     "output_type": "display_data"
    },
    {
     "data": {
      "text/html": [
       "0.117800000000001"
      ],
      "text/latex": [
       "0.117800000000001"
      ],
      "text/markdown": [
       "0.117800000000001"
      ],
      "text/plain": [
       "[1] 0.1178"
      ]
     },
     "metadata": {},
     "output_type": "display_data"
    }
   ],
   "source": [
    "#Interquartile-Range\n",
    "IQR(freeny$y)\n",
    "IQR(freeny$lag.quarterly.revenue)\n",
    "IQR(freeny$price.index)\n",
    "IQR(freeny$income.level)\n",
    "IQR(freeny$market.potential)"
   ]
  },
  {
   "cell_type": "code",
   "execution_count": 12,
   "id": "cca55022",
   "metadata": {},
   "outputs": [
    {
     "data": {
      "text/html": [
       "0.0996139326515519"
      ],
      "text/latex": [
       "0.0996139326515519"
      ],
      "text/markdown": [
       "0.0996139326515519"
      ],
      "text/plain": [
       "[1] 0.09961393"
      ]
     },
     "metadata": {},
     "output_type": "display_data"
    },
    {
     "data": {
      "text/html": [
       "0.0995199757182185"
      ],
      "text/latex": [
       "0.0995199757182185"
      ],
      "text/markdown": [
       "0.0995199757182185"
      ],
      "text/plain": [
       "[1] 0.09951998"
      ]
     },
     "metadata": {},
     "output_type": "display_data"
    },
    {
     "data": {
      "text/html": [
       "0.0177840559554656"
      ],
      "text/latex": [
       "0.0177840559554656"
      ],
      "text/markdown": [
       "0.0177840559554656"
      ],
      "text/plain": [
       "[1] 0.01778406"
      ]
     },
     "metadata": {},
     "output_type": "display_data"
    },
    {
     "data": {
      "text/html": [
       "0.0145065583300945"
      ],
      "text/latex": [
       "0.0145065583300945"
      ],
      "text/markdown": [
       "0.0145065583300945"
      ],
      "text/plain": [
       "[1] 0.01450656"
      ]
     },
     "metadata": {},
     "output_type": "display_data"
    },
    {
     "data": {
      "text/html": [
       "0.00416075744939268"
      ],
      "text/latex": [
       "0.00416075744939268"
      ],
      "text/markdown": [
       "0.00416075744939268"
      ],
      "text/plain": [
       "[1] 0.004160757"
      ]
     },
     "metadata": {},
     "output_type": "display_data"
    }
   ],
   "source": [
    "#Variance\n",
    "var(freeny$y)\n",
    "var(freeny$lag.quarterly.revenue)\n",
    "var(freeny$price.index)\n",
    "var(freeny$income.level)\n",
    "var(freeny$market.potential)"
   ]
  },
  {
   "cell_type": "code",
   "execution_count": 13,
   "id": "4276f3f8",
   "metadata": {},
   "outputs": [
    {
     "data": {
      "text/html": [
       "0.315616749637201"
      ],
      "text/latex": [
       "0.315616749637201"
      ],
      "text/markdown": [
       "0.315616749637201"
      ],
      "text/plain": [
       "[1] 0.3156167"
      ]
     },
     "metadata": {},
     "output_type": "display_data"
    },
    {
     "data": {
      "text/html": [
       "0.31546786796474"
      ],
      "text/latex": [
       "0.31546786796474"
      ],
      "text/markdown": [
       "0.31546786796474"
      ],
      "text/plain": [
       "[1] 0.3154679"
      ]
     },
     "metadata": {},
     "output_type": "display_data"
    },
    {
     "data": {
      "text/html": [
       "0.133356874421477"
      ],
      "text/latex": [
       "0.133356874421477"
      ],
      "text/markdown": [
       "0.133356874421477"
      ],
      "text/plain": [
       "[1] 0.1333569"
      ]
     },
     "metadata": {},
     "output_type": "display_data"
    },
    {
     "data": {
      "text/html": [
       "0.120443174692859"
      ],
      "text/latex": [
       "0.120443174692859"
      ],
      "text/markdown": [
       "0.120443174692859"
      ],
      "text/plain": [
       "[1] 0.1204432"
      ]
     },
     "metadata": {},
     "output_type": "display_data"
    },
    {
     "data": {
      "text/html": [
       "0.0645039335962752"
      ],
      "text/latex": [
       "0.0645039335962752"
      ],
      "text/markdown": [
       "0.0645039335962752"
      ],
      "text/plain": [
       "[1] 0.06450393"
      ]
     },
     "metadata": {},
     "output_type": "display_data"
    }
   ],
   "source": [
    "#standard deviation\n",
    "sd(freeny$y)\n",
    "sd(freeny$lag.quarterly.revenue)\n",
    "sd(freeny$price.index)\n",
    "sd(freeny$income.level)\n",
    "sd(freeny$market.potential)"
   ]
  },
  {
   "cell_type": "code",
   "execution_count": 14,
   "id": "f2393175",
   "metadata": {},
   "outputs": [
    {
     "name": "stdout",
     "output_type": "stream",
     "text": [
      "\n",
      "  There is a binary version available but the source version is later:\n",
      "         binary source needs_compilation\n",
      "corrplot   0.88   0.90             FALSE\n",
      "\n"
     ]
    },
    {
     "name": "stderr",
     "output_type": "stream",
     "text": [
      "installing the source package 'corrplot'\n",
      "\n",
      "corrplot 0.90 loaded\n"
     ]
    }
   ],
   "source": [
    "#2.Construct a correlation matrix for all the variables in the freeny dataset.\n",
    "#install.packages(\"corrplot\")\n",
    "library(corrplot)"
   ]
  },
  {
   "cell_type": "code",
   "execution_count": 15,
   "id": "43108fdd",
   "metadata": {},
   "outputs": [
    {
     "data": {
      "text/html": [
       "<table>\n",
       "<thead><tr><th></th><th scope=col>y</th><th scope=col>lag.quarterly.revenue</th><th scope=col>price.index</th><th scope=col>income.level</th><th scope=col>market.potential</th></tr></thead>\n",
       "<tbody>\n",
       "\t<tr><th scope=row>y</th><td> 1.0000000</td><td> 0.9977945</td><td>-0.9895118</td><td> 0.9839382</td><td> 0.9965928</td></tr>\n",
       "\t<tr><th scope=row>lag.quarterly.revenue</th><td> 0.9977945</td><td> 1.0000000</td><td>-0.9894174</td><td> 0.9816602</td><td> 0.9972070</td></tr>\n",
       "\t<tr><th scope=row>price.index</th><td>-0.9895118</td><td>-0.9894174</td><td> 1.0000000</td><td>-0.9538757</td><td>-0.9890884</td></tr>\n",
       "\t<tr><th scope=row>income.level</th><td> 0.9839382</td><td> 0.9816602</td><td>-0.9538757</td><td> 1.0000000</td><td> 0.9765025</td></tr>\n",
       "\t<tr><th scope=row>market.potential</th><td> 0.9965928</td><td> 0.9972070</td><td>-0.9890884</td><td> 0.9765025</td><td> 1.0000000</td></tr>\n",
       "</tbody>\n",
       "</table>\n"
      ],
      "text/latex": [
       "\\begin{tabular}{r|lllll}\n",
       "  & y & lag.quarterly.revenue & price.index & income.level & market.potential\\\\\n",
       "\\hline\n",
       "\ty &  1.0000000 &  0.9977945 & -0.9895118 &  0.9839382 &  0.9965928\\\\\n",
       "\tlag.quarterly.revenue &  0.9977945 &  1.0000000 & -0.9894174 &  0.9816602 &  0.9972070\\\\\n",
       "\tprice.index & -0.9895118 & -0.9894174 &  1.0000000 & -0.9538757 & -0.9890884\\\\\n",
       "\tincome.level &  0.9839382 &  0.9816602 & -0.9538757 &  1.0000000 &  0.9765025\\\\\n",
       "\tmarket.potential &  0.9965928 &  0.9972070 & -0.9890884 &  0.9765025 &  1.0000000\\\\\n",
       "\\end{tabular}\n"
      ],
      "text/markdown": [
       "\n",
       "| <!--/--> | y | lag.quarterly.revenue | price.index | income.level | market.potential |\n",
       "|---|---|---|---|---|---|\n",
       "| y |  1.0000000 |  0.9977945 | -0.9895118 |  0.9839382 |  0.9965928 |\n",
       "| lag.quarterly.revenue |  0.9977945 |  1.0000000 | -0.9894174 |  0.9816602 |  0.9972070 |\n",
       "| price.index | -0.9895118 | -0.9894174 |  1.0000000 | -0.9538757 | -0.9890884 |\n",
       "| income.level |  0.9839382 |  0.9816602 | -0.9538757 |  1.0000000 |  0.9765025 |\n",
       "| market.potential |  0.9965928 |  0.9972070 | -0.9890884 |  0.9765025 |  1.0000000 |\n",
       "\n"
      ],
      "text/plain": [
       "                      y          lag.quarterly.revenue price.index income.level\n",
       "y                      1.0000000  0.9977945            -0.9895118   0.9839382  \n",
       "lag.quarterly.revenue  0.9977945  1.0000000            -0.9894174   0.9816602  \n",
       "price.index           -0.9895118 -0.9894174             1.0000000  -0.9538757  \n",
       "income.level           0.9839382  0.9816602            -0.9538757   1.0000000  \n",
       "market.potential       0.9965928  0.9972070            -0.9890884   0.9765025  \n",
       "                      market.potential\n",
       "y                      0.9965928      \n",
       "lag.quarterly.revenue  0.9972070      \n",
       "price.index           -0.9890884      \n",
       "income.level           0.9765025      \n",
       "market.potential       1.0000000      "
      ]
     },
     "metadata": {},
     "output_type": "display_data"
    }
   ],
   "source": [
    "data <- freeny\n",
    "data[is.na(data)] = 0\n",
    "cor_matrix <- cor(data)\n",
    "cor_matrix"
   ]
  },
  {
   "cell_type": "code",
   "execution_count": 16,
   "id": "598fce4d",
   "metadata": {},
   "outputs": [
    {
     "data": {
      "image/png": "[encoded data removed]",
      "text/plain": [
       "Plot with title \"\""
      ]
     },
     "metadata": {},
     "output_type": "display_data"
    }
   ],
   "source": [
    "corrplot(cor_matrix)"
   ]
  },
  {
   "cell_type": "code",
   "execution_count": 17,
   "id": "263ee3a0",
   "metadata": {},
   "outputs": [
    {
     "data": {
      "text/html": [
       "<table>\n",
       "<thead><tr><th></th><th scope=col>y</th><th scope=col>lag.quarterly.revenue</th><th scope=col>price.index</th><th scope=col>income.level</th><th scope=col>market.potential</th><th scope=col>price.income.ratio</th></tr></thead>\n",
       "<tbody>\n",
       "\t<tr><th scope=row>1962.25</th><td>8.79236  </td><td>8.79636  </td><td>4.70997  </td><td>5.82110  </td><td>12.9699  </td><td>0.8091203</td></tr>\n",
       "\t<tr><th scope=row>1962.5</th><td>8.79137  </td><td>8.79236  </td><td>4.70217  </td><td>5.82558  </td><td>12.9733  </td><td>0.8071591</td></tr>\n",
       "\t<tr><th scope=row>1962.75</th><td>8.81486  </td><td>8.79137  </td><td>4.68944  </td><td>5.83112  </td><td>12.9774  </td><td>0.8042091</td></tr>\n",
       "\t<tr><th scope=row>1963</th><td>8.81301  </td><td>8.81486  </td><td>4.68558  </td><td>5.84046  </td><td>12.9806  </td><td>0.8022622</td></tr>\n",
       "\t<tr><th scope=row>1963.25</th><td>8.90751  </td><td>8.81301  </td><td>4.64019  </td><td>5.85036  </td><td>12.9831  </td><td>0.7931461</td></tr>\n",
       "\t<tr><th scope=row>1963.5</th><td>8.93673  </td><td>8.90751  </td><td>4.62553  </td><td>5.86464  </td><td>12.9854  </td><td>0.7887151</td></tr>\n",
       "\t<tr><th scope=row>1963.75</th><td>8.96161  </td><td>8.93673  </td><td>4.61991  </td><td>5.87769  </td><td>12.9900  </td><td>0.7860078</td></tr>\n",
       "\t<tr><th scope=row>1964</th><td>8.96044  </td><td>8.96161  </td><td>4.61654  </td><td>5.89763  </td><td>12.9943  </td><td>0.7827788</td></tr>\n",
       "\t<tr><th scope=row>1964.25</th><td>9.00868  </td><td>8.96044  </td><td>4.61407  </td><td>5.92574  </td><td>12.9992  </td><td>0.7786487</td></tr>\n",
       "\t<tr><th scope=row>1964.5</th><td>9.03049  </td><td>9.00868  </td><td>4.60766  </td><td>5.94232  </td><td>13.0033  </td><td>0.7753975</td></tr>\n",
       "\t<tr><th scope=row>1964.75</th><td>9.06906  </td><td>9.03049  </td><td>4.60227  </td><td>5.95365  </td><td>13.0099  </td><td>0.7730166</td></tr>\n",
       "\t<tr><th scope=row>1965</th><td>9.05871  </td><td>9.06906  </td><td>4.58960  </td><td>5.96120  </td><td>13.0159  </td><td>0.7699121</td></tr>\n",
       "\t<tr><th scope=row>1965.25</th><td>9.10698  </td><td>9.05871  </td><td>4.57592  </td><td>5.97805  </td><td>13.0212  </td><td>0.7654536</td></tr>\n",
       "\t<tr><th scope=row>1965.5</th><td>9.12685  </td><td>9.10698  </td><td>4.58661  </td><td>6.00377  </td><td>13.0265  </td><td>0.7639550</td></tr>\n",
       "\t<tr><th scope=row>1965.75</th><td>9.17096  </td><td>9.12685  </td><td>4.57997  </td><td>6.02829  </td><td>13.0351  </td><td>0.7597461</td></tr>\n",
       "\t<tr><th scope=row>1966</th><td>9.18665  </td><td>9.17096  </td><td>4.57176  </td><td>6.03475  </td><td>13.0429  </td><td>0.7575724</td></tr>\n",
       "\t<tr><th scope=row>1966.25</th><td>9.23823  </td><td>9.18665  </td><td>4.56104  </td><td>6.03906  </td><td>13.0497  </td><td>0.7552566</td></tr>\n",
       "\t<tr><th scope=row>1966.5</th><td>9.26487  </td><td>9.23823  </td><td>4.54906  </td><td>6.05046  </td><td>13.0551  </td><td>0.7518536</td></tr>\n",
       "\t<tr><th scope=row>1966.75</th><td>9.28436  </td><td>9.26487  </td><td>4.53957  </td><td>6.05563  </td><td>13.0634  </td><td>0.7496445</td></tr>\n",
       "\t<tr><th scope=row>1967</th><td>9.31378  </td><td>9.28436  </td><td>4.51018  </td><td>6.06093  </td><td>13.0693  </td><td>0.7441399</td></tr>\n",
       "\t<tr><th scope=row>1967.25</th><td>9.35025  </td><td>9.31378  </td><td>4.50352  </td><td>6.07103  </td><td>13.0737  </td><td>0.7418049</td></tr>\n",
       "\t<tr><th scope=row>1967.5</th><td>9.35835  </td><td>9.35025  </td><td>4.49360  </td><td>6.08018  </td><td>13.0770  </td><td>0.7390571</td></tr>\n",
       "\t<tr><th scope=row>1967.75</th><td>9.39767  </td><td>9.35835  </td><td>4.46505  </td><td>6.08858  </td><td>13.0849  </td><td>0.7333483</td></tr>\n",
       "\t<tr><th scope=row>1968</th><td>9.42150  </td><td>9.39767  </td><td>4.44924  </td><td>6.10199  </td><td>13.0918  </td><td>0.7291457</td></tr>\n",
       "\t<tr><th scope=row>1968.25</th><td>9.44223  </td><td>9.42150  </td><td>4.43966  </td><td>6.11207  </td><td>13.0950  </td><td>0.7263758</td></tr>\n",
       "\t<tr><th scope=row>1968.5</th><td>9.48721  </td><td>9.44223  </td><td>4.42025  </td><td>6.11596  </td><td>13.0984  </td><td>0.7227402</td></tr>\n",
       "\t<tr><th scope=row>1968.75</th><td>9.52374  </td><td>9.48721  </td><td>4.41060  </td><td>6.12129  </td><td>13.1089  </td><td>0.7205344</td></tr>\n",
       "\t<tr><th scope=row>1969</th><td>9.53980  </td><td>9.52374  </td><td>4.41151  </td><td>6.12200  </td><td>13.1169  </td><td>0.7205995</td></tr>\n",
       "\t<tr><th scope=row>1969.25</th><td>9.58123  </td><td>9.53980  </td><td>4.39810  </td><td>6.13119  </td><td>13.1222  </td><td>0.7173322</td></tr>\n",
       "\t<tr><th scope=row>1969.5</th><td>9.60048  </td><td>9.58123  </td><td>4.38513  </td><td>6.14705  </td><td>13.1266  </td><td>0.7133715</td></tr>\n",
       "\t<tr><th scope=row>1969.75</th><td>9.64496  </td><td>9.60048  </td><td>4.37320  </td><td>6.15336  </td><td>13.1356  </td><td>0.7107011</td></tr>\n",
       "\t<tr><th scope=row>1970</th><td>9.64390  </td><td>9.64496  </td><td>4.32770  </td><td>6.15627  </td><td>13.1415  </td><td>0.7029744</td></tr>\n",
       "\t<tr><th scope=row>1970.25</th><td>9.69405  </td><td>9.64390  </td><td>4.32023  </td><td>6.16274  </td><td>13.1444  </td><td>0.7010242</td></tr>\n",
       "\t<tr><th scope=row>1970.5</th><td>9.69958  </td><td>9.69405  </td><td>4.30909  </td><td>6.17369  </td><td>13.1459  </td><td>0.6979764</td></tr>\n",
       "\t<tr><th scope=row>1970.75</th><td>9.68683  </td><td>9.69958  </td><td>4.30909  </td><td>6.16135  </td><td>13.1520  </td><td>0.6993743</td></tr>\n",
       "\t<tr><th scope=row>1971</th><td>9.71774  </td><td>9.68683  </td><td>4.30552  </td><td>6.18231  </td><td>13.1593  </td><td>0.6964258</td></tr>\n",
       "\t<tr><th scope=row>1971.25</th><td>9.74924  </td><td>9.71774  </td><td>4.29627  </td><td>6.18768  </td><td>13.1579  </td><td>0.6943265</td></tr>\n",
       "\t<tr><th scope=row>1971.5</th><td>9.77536  </td><td>9.74924  </td><td>4.27839  </td><td>6.19377  </td><td>13.1625  </td><td>0.6907570</td></tr>\n",
       "\t<tr><th scope=row>1971.75</th><td>9.79424  </td><td>9.77536  </td><td>4.27789  </td><td>6.20030  </td><td>13.1664  </td><td>0.6899489</td></tr>\n",
       "</tbody>\n",
       "</table>\n"
      ],
      "text/latex": [
       "\\begin{tabular}{r|llllll}\n",
       "  & y & lag.quarterly.revenue & price.index & income.level & market.potential & price.income.ratio\\\\\n",
       "\\hline\n",
       "\t1962.25 & 8.79236   & 8.79636   & 4.70997   & 5.82110   & 12.9699   & 0.8091203\\\\\n",
       "\t1962.5 & 8.79137   & 8.79236   & 4.70217   & 5.82558   & 12.9733   & 0.8071591\\\\\n",
       "\t1962.75 & 8.81486   & 8.79137   & 4.68944   & 5.83112   & 12.9774   & 0.8042091\\\\\n",
       "\t1963 & 8.81301   & 8.81486   & 4.68558   & 5.84046   & 12.9806   & 0.8022622\\\\\n",
       "\t1963.25 & 8.90751   & 8.81301   & 4.64019   & 5.85036   & 12.9831   & 0.7931461\\\\\n",
       "\t1963.5 & 8.93673   & 8.90751   & 4.62553   & 5.86464   & 12.9854   & 0.7887151\\\\\n",
       "\t1963.75 & 8.96161   & 8.93673   & 4.61991   & 5.87769   & 12.9900   & 0.7860078\\\\\n",
       "\t1964 & 8.96044   & 8.96161   & 4.61654   & 5.89763   & 12.9943   & 0.7827788\\\\\n",
       "\t1964.25 & 9.00868   & 8.96044   & 4.61407   & 5.92574   & 12.9992   & 0.7786487\\\\\n",
       "\t1964.5 & 9.03049   & 9.00868   & 4.60766   & 5.94232   & 13.0033   & 0.7753975\\\\\n",
       "\t1964.75 & 9.06906   & 9.03049   & 4.60227   & 5.95365   & 13.0099   & 0.7730166\\\\\n",
       "\t1965 & 9.05871   & 9.06906   & 4.58960   & 5.96120   & 13.0159   & 0.7699121\\\\\n",
       "\t1965.25 & 9.10698   & 9.05871   & 4.57592   & 5.97805   & 13.0212   & 0.7654536\\\\\n",
       "\t1965.5 & 9.12685   & 9.10698   & 4.58661   & 6.00377   & 13.0265   & 0.7639550\\\\\n",
       "\t1965.75 & 9.17096   & 9.12685   & 4.57997   & 6.02829   & 13.0351   & 0.7597461\\\\\n",
       "\t1966 & 9.18665   & 9.17096   & 4.57176   & 6.03475   & 13.0429   & 0.7575724\\\\\n",
       "\t1966.25 & 9.23823   & 9.18665   & 4.56104   & 6.03906   & 13.0497   & 0.7552566\\\\\n",
       "\t1966.5 & 9.26487   & 9.23823   & 4.54906   & 6.05046   & 13.0551   & 0.7518536\\\\\n",
       "\t1966.75 & 9.28436   & 9.26487   & 4.53957   & 6.05563   & 13.0634   & 0.7496445\\\\\n",
       "\t1967 & 9.31378   & 9.28436   & 4.51018   & 6.06093   & 13.0693   & 0.7441399\\\\\n",
       "\t1967.25 & 9.35025   & 9.31378   & 4.50352   & 6.07103   & 13.0737   & 0.7418049\\\\\n",
       "\t1967.5 & 9.35835   & 9.35025   & 4.49360   & 6.08018   & 13.0770   & 0.7390571\\\\\n",
       "\t1967.75 & 9.39767   & 9.35835   & 4.46505   & 6.08858   & 13.0849   & 0.7333483\\\\\n",
       "\t1968 & 9.42150   & 9.39767   & 4.44924   & 6.10199   & 13.0918   & 0.7291457\\\\\n",
       "\t1968.25 & 9.44223   & 9.42150   & 4.43966   & 6.11207   & 13.0950   & 0.7263758\\\\\n",
       "\t1968.5 & 9.48721   & 9.44223   & 4.42025   & 6.11596   & 13.0984   & 0.7227402\\\\\n",
       "\t1968.75 & 9.52374   & 9.48721   & 4.41060   & 6.12129   & 13.1089   & 0.7205344\\\\\n",
       "\t1969 & 9.53980   & 9.52374   & 4.41151   & 6.12200   & 13.1169   & 0.7205995\\\\\n",
       "\t1969.25 & 9.58123   & 9.53980   & 4.39810   & 6.13119   & 13.1222   & 0.7173322\\\\\n",
       "\t1969.5 & 9.60048   & 9.58123   & 4.38513   & 6.14705   & 13.1266   & 0.7133715\\\\\n",
       "\t1969.75 & 9.64496   & 9.60048   & 4.37320   & 6.15336   & 13.1356   & 0.7107011\\\\\n",
       "\t1970 & 9.64390   & 9.64496   & 4.32770   & 6.15627   & 13.1415   & 0.7029744\\\\\n",
       "\t1970.25 & 9.69405   & 9.64390   & 4.32023   & 6.16274   & 13.1444   & 0.7010242\\\\\n",
       "\t1970.5 & 9.69958   & 9.69405   & 4.30909   & 6.17369   & 13.1459   & 0.6979764\\\\\n",
       "\t1970.75 & 9.68683   & 9.69958   & 4.30909   & 6.16135   & 13.1520   & 0.6993743\\\\\n",
       "\t1971 & 9.71774   & 9.68683   & 4.30552   & 6.18231   & 13.1593   & 0.6964258\\\\\n",
       "\t1971.25 & 9.74924   & 9.71774   & 4.29627   & 6.18768   & 13.1579   & 0.6943265\\\\\n",
       "\t1971.5 & 9.77536   & 9.74924   & 4.27839   & 6.19377   & 13.1625   & 0.6907570\\\\\n",
       "\t1971.75 & 9.79424   & 9.77536   & 4.27789   & 6.20030   & 13.1664   & 0.6899489\\\\\n",
       "\\end{tabular}\n"
      ],
      "text/markdown": [
       "\n",
       "| <!--/--> | y | lag.quarterly.revenue | price.index | income.level | market.potential | price.income.ratio |\n",
       "|---|---|---|---|---|---|---|\n",
       "| 1962.25 | 8.79236   | 8.79636   | 4.70997   | 5.82110   | 12.9699   | 0.8091203 |\n",
       "| 1962.5 | 8.79137   | 8.79236   | 4.70217   | 5.82558   | 12.9733   | 0.8071591 |\n",
       "| 1962.75 | 8.81486   | 8.79137   | 4.68944   | 5.83112   | 12.9774   | 0.8042091 |\n",
       "| 1963 | 8.81301   | 8.81486   | 4.68558   | 5.84046   | 12.9806   | 0.8022622 |\n",
       "| 1963.25 | 8.90751   | 8.81301   | 4.64019   | 5.85036   | 12.9831   | 0.7931461 |\n",
       "| 1963.5 | 8.93673   | 8.90751   | 4.62553   | 5.86464   | 12.9854   | 0.7887151 |\n",
       "| 1963.75 | 8.96161   | 8.93673   | 4.61991   | 5.87769   | 12.9900   | 0.7860078 |\n",
       "| 1964 | 8.96044   | 8.96161   | 4.61654   | 5.89763   | 12.9943   | 0.7827788 |\n",
       "| 1964.25 | 9.00868   | 8.96044   | 4.61407   | 5.92574   | 12.9992   | 0.7786487 |\n",
       "| 1964.5 | 9.03049   | 9.00868   | 4.60766   | 5.94232   | 13.0033   | 0.7753975 |\n",
       "| 1964.75 | 9.06906   | 9.03049   | 4.60227   | 5.95365   | 13.0099   | 0.7730166 |\n",
       "| 1965 | 9.05871   | 9.06906   | 4.58960   | 5.96120   | 13.0159   | 0.7699121 |\n",
       "| 1965.25 | 9.10698   | 9.05871   | 4.57592   | 5.97805   | 13.0212   | 0.7654536 |\n",
       "| 1965.5 | 9.12685   | 9.10698   | 4.58661   | 6.00377   | 13.0265   | 0.7639550 |\n",
       "| 1965.75 | 9.17096   | 9.12685   | 4.57997   | 6.02829   | 13.0351   | 0.7597461 |\n",
       "| 1966 | 9.18665   | 9.17096   | 4.57176   | 6.03475   | 13.0429   | 0.7575724 |\n",
       "| 1966.25 | 9.23823   | 9.18665   | 4.56104   | 6.03906   | 13.0497   | 0.7552566 |\n",
       "| 1966.5 | 9.26487   | 9.23823   | 4.54906   | 6.05046   | 13.0551   | 0.7518536 |\n",
       "| 1966.75 | 9.28436   | 9.26487   | 4.53957   | 6.05563   | 13.0634   | 0.7496445 |\n",
       "| 1967 | 9.31378   | 9.28436   | 4.51018   | 6.06093   | 13.0693   | 0.7441399 |\n",
       "| 1967.25 | 9.35025   | 9.31378   | 4.50352   | 6.07103   | 13.0737   | 0.7418049 |\n",
       "| 1967.5 | 9.35835   | 9.35025   | 4.49360   | 6.08018   | 13.0770   | 0.7390571 |\n",
       "| 1967.75 | 9.39767   | 9.35835   | 4.46505   | 6.08858   | 13.0849   | 0.7333483 |\n",
       "| 1968 | 9.42150   | 9.39767   | 4.44924   | 6.10199   | 13.0918   | 0.7291457 |\n",
       "| 1968.25 | 9.44223   | 9.42150   | 4.43966   | 6.11207   | 13.0950   | 0.7263758 |\n",
       "| 1968.5 | 9.48721   | 9.44223   | 4.42025   | 6.11596   | 13.0984   | 0.7227402 |\n",
       "| 1968.75 | 9.52374   | 9.48721   | 4.41060   | 6.12129   | 13.1089   | 0.7205344 |\n",
       "| 1969 | 9.53980   | 9.52374   | 4.41151   | 6.12200   | 13.1169   | 0.7205995 |\n",
       "| 1969.25 | 9.58123   | 9.53980   | 4.39810   | 6.13119   | 13.1222   | 0.7173322 |\n",
       "| 1969.5 | 9.60048   | 9.58123   | 4.38513   | 6.14705   | 13.1266   | 0.7133715 |\n",
       "| 1969.75 | 9.64496   | 9.60048   | 4.37320   | 6.15336   | 13.1356   | 0.7107011 |\n",
       "| 1970 | 9.64390   | 9.64496   | 4.32770   | 6.15627   | 13.1415   | 0.7029744 |\n",
       "| 1970.25 | 9.69405   | 9.64390   | 4.32023   | 6.16274   | 13.1444   | 0.7010242 |\n",
       "| 1970.5 | 9.69958   | 9.69405   | 4.30909   | 6.17369   | 13.1459   | 0.6979764 |\n",
       "| 1970.75 | 9.68683   | 9.69958   | 4.30909   | 6.16135   | 13.1520   | 0.6993743 |\n",
       "| 1971 | 9.71774   | 9.68683   | 4.30552   | 6.18231   | 13.1593   | 0.6964258 |\n",
       "| 1971.25 | 9.74924   | 9.71774   | 4.29627   | 6.18768   | 13.1579   | 0.6943265 |\n",
       "| 1971.5 | 9.77536   | 9.74924   | 4.27839   | 6.19377   | 13.1625   | 0.6907570 |\n",
       "| 1971.75 | 9.79424   | 9.77536   | 4.27789   | 6.20030   | 13.1664   | 0.6899489 |\n",
       "\n"
      ],
      "text/plain": [
       "        y       lag.quarterly.revenue price.index income.level market.potential\n",
       "1962.25 8.79236 8.79636               4.70997     5.82110      12.9699         \n",
       "1962.5  8.79137 8.79236               4.70217     5.82558      12.9733         \n",
       "1962.75 8.81486 8.79137               4.68944     5.83112      12.9774         \n",
       "1963    8.81301 8.81486               4.68558     5.84046      12.9806         \n",
       "1963.25 8.90751 8.81301               4.64019     5.85036      12.9831         \n",
       "1963.5  8.93673 8.90751               4.62553     5.86464      12.9854         \n",
       "1963.75 8.96161 8.93673               4.61991     5.87769      12.9900         \n",
       "1964    8.96044 8.96161               4.61654     5.89763      12.9943         \n",
       "1964.25 9.00868 8.96044               4.61407     5.92574      12.9992         \n",
       "1964.5  9.03049 9.00868               4.60766     5.94232      13.0033         \n",
       "1964.75 9.06906 9.03049               4.60227     5.95365      13.0099         \n",
       "1965    9.05871 9.06906               4.58960     5.96120      13.0159         \n",
       "1965.25 9.10698 9.05871               4.57592     5.97805      13.0212         \n",
       "1965.5  9.12685 9.10698               4.58661     6.00377      13.0265         \n",
       "1965.75 9.17096 9.12685               4.57997     6.02829      13.0351         \n",
       "1966    9.18665 9.17096               4.57176     6.03475      13.0429         \n",
       "1966.25 9.23823 9.18665               4.56104     6.03906      13.0497         \n",
       "1966.5  9.26487 9.23823               4.54906     6.05046      13.0551         \n",
       "1966.75 9.28436 9.26487               4.53957     6.05563      13.0634         \n",
       "1967    9.31378 9.28436               4.51018     6.06093      13.0693         \n",
       "1967.25 9.35025 9.31378               4.50352     6.07103      13.0737         \n",
       "1967.5  9.35835 9.35025               4.49360     6.08018      13.0770         \n",
       "1967.75 9.39767 9.35835               4.46505     6.08858      13.0849         \n",
       "1968    9.42150 9.39767               4.44924     6.10199      13.0918         \n",
       "1968.25 9.44223 9.42150               4.43966     6.11207      13.0950         \n",
       "1968.5  9.48721 9.44223               4.42025     6.11596      13.0984         \n",
       "1968.75 9.52374 9.48721               4.41060     6.12129      13.1089         \n",
       "1969    9.53980 9.52374               4.41151     6.12200      13.1169         \n",
       "1969.25 9.58123 9.53980               4.39810     6.13119      13.1222         \n",
       "1969.5  9.60048 9.58123               4.38513     6.14705      13.1266         \n",
       "1969.75 9.64496 9.60048               4.37320     6.15336      13.1356         \n",
       "1970    9.64390 9.64496               4.32770     6.15627      13.1415         \n",
       "1970.25 9.69405 9.64390               4.32023     6.16274      13.1444         \n",
       "1970.5  9.69958 9.69405               4.30909     6.17369      13.1459         \n",
       "1970.75 9.68683 9.69958               4.30909     6.16135      13.1520         \n",
       "1971    9.71774 9.68683               4.30552     6.18231      13.1593         \n",
       "1971.25 9.74924 9.71774               4.29627     6.18768      13.1579         \n",
       "1971.5  9.77536 9.74924               4.27839     6.19377      13.1625         \n",
       "1971.75 9.79424 9.77536               4.27789     6.20030      13.1664         \n",
       "        price.income.ratio\n",
       "1962.25 0.8091203         \n",
       "1962.5  0.8071591         \n",
       "1962.75 0.8042091         \n",
       "1963    0.8022622         \n",
       "1963.25 0.7931461         \n",
       "1963.5  0.7887151         \n",
       "1963.75 0.7860078         \n",
       "1964    0.7827788         \n",
       "1964.25 0.7786487         \n",
       "1964.5  0.7753975         \n",
       "1964.75 0.7730166         \n",
       "1965    0.7699121         \n",
       "1965.25 0.7654536         \n",
       "1965.5  0.7639550         \n",
       "1965.75 0.7597461         \n",
       "1966    0.7575724         \n",
       "1966.25 0.7552566         \n",
       "1966.5  0.7518536         \n",
       "1966.75 0.7496445         \n",
       "1967    0.7441399         \n",
       "1967.25 0.7418049         \n",
       "1967.5  0.7390571         \n",
       "1967.75 0.7333483         \n",
       "1968    0.7291457         \n",
       "1968.25 0.7263758         \n",
       "1968.5  0.7227402         \n",
       "1968.75 0.7205344         \n",
       "1969    0.7205995         \n",
       "1969.25 0.7173322         \n",
       "1969.5  0.7133715         \n",
       "1969.75 0.7107011         \n",
       "1970    0.7029744         \n",
       "1970.25 0.7010242         \n",
       "1970.5  0.6979764         \n",
       "1970.75 0.6993743         \n",
       "1971    0.6964258         \n",
       "1971.25 0.6943265         \n",
       "1971.5  0.6907570         \n",
       "1971.75 0.6899489         "
      ]
     },
     "metadata": {},
     "output_type": "display_data"
    }
   ],
   "source": [
    "#3.Create a new variable price.income.ratio constructed as a ratio of price.index and income.level.\n",
    "#Print its summary statistics.\n",
    "data[\"price.income.ratio\"] = (data[\"price.index\"]/data[\"income.level\"])\n",
    "data"
   ]
  },
  {
   "cell_type": "code",
   "execution_count": 18,
   "id": "123de29f",
   "metadata": {},
   "outputs": [
    {
     "data": {
      "text/html": [
       "0.745277264036971"
      ],
      "text/latex": [
       "0.745277264036971"
      ],
      "text/markdown": [
       "0.745277264036971"
      ],
      "text/plain": [
       "[1] 0.7452773"
      ]
     },
     "metadata": {},
     "output_type": "display_data"
    },
    {
     "data": {
      "text/html": [
       "0.74413992572097"
      ],
      "text/latex": [
       "0.74413992572097"
      ],
      "text/markdown": [
       "0.74413992572097"
      ],
      "text/plain": [
       "[1] 0.7441399"
      ]
     },
     "metadata": {},
     "output_type": "display_data"
    },
    {
     "data": {
      "text/html": [
       "<strong>0.689948873441608:</strong> 1"
      ],
      "text/latex": [
       "\\textbf{0.689948873441608:} 1"
      ],
      "text/markdown": [
       "**0.689948873441608:** 1"
      ],
      "text/plain": [
       "0.689948873441608 \n",
       "                1 "
      ]
     },
     "metadata": {},
     "output_type": "display_data"
    },
    {
     "data": {
      "text/html": [
       "0.119171395923289"
      ],
      "text/latex": [
       "0.119171395923289"
      ],
      "text/markdown": [
       "0.119171395923289"
      ],
      "text/plain": [
       "[1] 0.1191714"
      ]
     },
     "metadata": {},
     "output_type": "display_data"
    },
    {
     "data": {
      "text/html": [
       "0.0588551939832942"
      ],
      "text/latex": [
       "0.0588551939832942"
      ],
      "text/markdown": [
       "0.0588551939832942"
      ],
      "text/plain": [
       "[1] 0.05885519"
      ]
     },
     "metadata": {},
     "output_type": "display_data"
    },
    {
     "data": {
      "text/html": [
       "0.00134706759138125"
      ],
      "text/latex": [
       "0.00134706759138125"
      ],
      "text/markdown": [
       "0.00134706759138125"
      ],
      "text/plain": [
       "[1] 0.001347068"
      ]
     },
     "metadata": {},
     "output_type": "display_data"
    },
    {
     "data": {
      "text/html": [
       "0.0367024194213576"
      ],
      "text/latex": [
       "0.0367024194213576"
      ],
      "text/markdown": [
       "0.0367024194213576"
      ],
      "text/plain": [
       "[1] 0.03670242"
      ]
     },
     "metadata": {},
     "output_type": "display_data"
    }
   ],
   "source": [
    "#Print its summary statistics.(price.income.ratio)\n",
    "mean(data$price.income.ratio)#Mean\n",
    "median(data$price.income.ratio)#Median\n",
    "which.max(table(data$price.income.ratio))#Mode\n",
    "max(data$price.income.ratio) - min(data$price.income.ratio)#Range\n",
    "IQR(data$price.income.ratio)#Interquartile-Range\n",
    "var(data$price.income.ratio)#Variance\n",
    "sd(data$price.income.ratio)#Standard deviation"
   ]
  },
  {
   "cell_type": "markdown",
   "id": "76e566c1",
   "metadata": {},
   "source": [
    "### Good Job! You are done with the section!"
   ]
  },
  {
   "cell_type": "markdown",
   "id": "fd045836",
   "metadata": {},
   "source": [
    "## Section 2: Machine Learning: Regression Analysis"
   ]
  },
  {
   "cell_type": "markdown",
   "id": "68530081",
   "metadata": {},
   "source": [
    "## Question 1\n",
    "#### Based on the observations acquired from the above exercise:\n",
    "\n",
    "1. Construct a linear regression model using y as dependent variable and top 2 variables with the highest correlation with y as dependent variable.\n",
    "2. Calculate the r-squared value for the constructed model.\n",
    "3. Use half the dataset for training and the remaining for testing.\n",
    "4. Generate in-sample and out-sample predictions and compute variance of residuals [hint: residual= y_predicted - y_observed]\n",
    "5. Plot the actual and predicted results for y variable."
   ]
  },
  {
   "cell_type": "code",
   "execution_count": 19,
   "id": "bd516ff3",
   "metadata": {},
   "outputs": [
    {
     "data": {
      "text/html": [
       "1"
      ],
      "text/latex": [
       "1"
      ],
      "text/markdown": [
       "1"
      ],
      "text/plain": [
       "[1] 1"
      ]
     },
     "metadata": {},
     "output_type": "display_data"
    },
    {
     "data": {
      "text/plain": [
       "\n",
       "Call:\n",
       "lm(formula = market.potential ~ price.index + income.level, data = freeny)\n",
       "\n",
       "Coefficients:\n",
       " (Intercept)   price.index  income.level  \n",
       "     13.2720       -0.3093        0.1963  \n"
      ]
     },
     "metadata": {},
     "output_type": "display_data"
    }
   ],
   "source": [
    "#1.Construct a linear regression model using y as dependent variable and top 2 variables with the highest correlation with y \n",
    "#as dependent variable.\n",
    "model <- lm(market.potential ~ price.index + income.level ,data = freeny)\n",
    "model"
   ]
  },
  {
   "cell_type": "code",
   "execution_count": 20,
   "id": "162d7d20",
   "metadata": {},
   "outputs": [
    {
     "data": {
      "text/plain": [
       "\n",
       "Call:\n",
       "lm(formula = market.potential ~ price.index + income.level, data = freeny)\n",
       "\n",
       "Residuals:\n",
       "       Min         1Q     Median         3Q        Max \n",
       "-0.0101512 -0.0054213 -0.0005416  0.0036681  0.0119975 \n",
       "\n",
       "Coefficients:\n",
       "             Estimate Std. Error t value Pr(>|t|)    \n",
       "(Intercept)  13.27199    0.29086  45.631  < 2e-16 ***\n",
       "price.index  -0.30929    0.02630 -11.758 6.92e-14 ***\n",
       "income.level  0.19631    0.02912   6.741 7.20e-08 ***\n",
       "---\n",
       "Signif. codes:  0 '***' 0.001 '**' 0.01 '*' 0.05 '.' 0.1 ' ' 1\n",
       "\n",
       "Residual standard error: 0.006491 on 36 degrees of freedom\n",
       "Multiple R-squared:  0.9904,\tAdjusted R-squared:  0.9899 \n",
       "F-statistic:  1858 on 2 and 36 DF,  p-value: < 2.2e-16\n"
      ]
     },
     "metadata": {},
     "output_type": "display_data"
    }
   ],
   "source": [
    "#2.Calculate the r-squared value for the constructed model.\n",
    "summary(model)\n",
    "#Ans:-r-squared value = 0.9899"
   ]
  },
  {
   "cell_type": "code",
   "execution_count": 21,
   "id": "429dca9c",
   "metadata": {},
   "outputs": [],
   "source": [
    "#3.Use half the dataset for training and the remaining for testing.\n",
    "set.seed(100)\n",
    "trainingRowIndex <- sample(1:nrow(freeny),0.5 * nrow(freeny))\n",
    "trainingData <- freeny[trainingRowIndex,]\n",
    "testingData <- freeny[-trainingRowIndex,]"
   ]
  },
  {
   "cell_type": "code",
   "execution_count": 22,
   "id": "29cfd5ef",
   "metadata": {},
   "outputs": [
    {
     "data": {
      "text/html": [
       "<table>\n",
       "<thead><tr><th></th><th scope=col>actual</th><th scope=col>predicted</th></tr></thead>\n",
       "<tbody>\n",
       "\t<tr><th scope=row>1962.25</th><td>8.79236 </td><td>12.95801</td></tr>\n",
       "\t<tr><th scope=row>1963.25</th><td>8.90751 </td><td>12.98534</td></tr>\n",
       "\t<tr><th scope=row>1964</th><td>8.96044 </td><td>13.00193</td></tr>\n",
       "\t<tr><th scope=row>1964.25</th><td>9.00868 </td><td>13.00821</td></tr>\n",
       "\t<tr><th scope=row>1965.25</th><td>9.10698 </td><td>13.03028</td></tr>\n",
       "\t<tr><th scope=row>1965.75</th><td>9.17096 </td><td>13.03889</td></tr>\n",
       "</tbody>\n",
       "</table>\n"
      ],
      "text/latex": [
       "\\begin{tabular}{r|ll}\n",
       "  & actual & predicted\\\\\n",
       "\\hline\n",
       "\t1962.25 & 8.79236  & 12.95801\\\\\n",
       "\t1963.25 & 8.90751  & 12.98534\\\\\n",
       "\t1964 & 8.96044  & 13.00193\\\\\n",
       "\t1964.25 & 9.00868  & 13.00821\\\\\n",
       "\t1965.25 & 9.10698  & 13.03028\\\\\n",
       "\t1965.75 & 9.17096  & 13.03889\\\\\n",
       "\\end{tabular}\n"
      ],
      "text/markdown": [
       "\n",
       "| <!--/--> | actual | predicted |\n",
       "|---|---|---|\n",
       "| 1962.25 | 8.79236  | 12.95801 |\n",
       "| 1963.25 | 8.90751  | 12.98534 |\n",
       "| 1964 | 8.96044  | 13.00193 |\n",
       "| 1964.25 | 9.00868  | 13.00821 |\n",
       "| 1965.25 | 9.10698  | 13.03028 |\n",
       "| 1965.75 | 9.17096  | 13.03889 |\n",
       "\n"
      ],
      "text/plain": [
       "        actual  predicted\n",
       "1962.25 8.79236 12.95801 \n",
       "1963.25 8.90751 12.98534 \n",
       "1964    8.96044 13.00193 \n",
       "1964.25 9.00868 13.00821 \n",
       "1965.25 9.10698 13.03028 \n",
       "1965.75 9.17096 13.03889 "
      ]
     },
     "metadata": {},
     "output_type": "display_data"
    },
    {
     "data": {
      "text/html": [
       "<ol class=list-inline>\n",
       "\t<li>-4.1656505203643</li>\n",
       "\t<li>-4.07782693030781</li>\n",
       "\t<li>-4.04149143500206</li>\n",
       "\t<li>-3.99953379077803</li>\n",
       "\t<li>-3.92330242342773</li>\n",
       "\t<li>-3.8679326575185</li>\n",
       "\t<li>-3.85605012010872</li>\n",
       "\t<li>-3.80863182303106</li>\n",
       "\t<li>-3.7723952105392</li>\n",
       "\t<li>-3.75310570451576</li>\n",
       "\t<li>-3.7206783540304</li>\n",
       "\t<li>-3.61829333603681</li>\n",
       "\t<li>-3.58579434007802</li>\n",
       "\t<li>-3.53411397868067</li>\n",
       "\t<li>-3.52198901990049</li>\n",
       "\t<li>-3.49814155223252</li>\n",
       "\t<li>-3.45163723871017</li>\n",
       "\t<li>-3.43627363697987</li>\n",
       "\t<li>-3.40868877772041</li>\n",
       "\t<li>-3.37185101633086</li>\n",
       "</ol>\n"
      ],
      "text/latex": [
       "\\begin{enumerate*}\n",
       "\\item -4.1656505203643\n",
       "\\item -4.07782693030781\n",
       "\\item -4.04149143500206\n",
       "\\item -3.99953379077803\n",
       "\\item -3.92330242342773\n",
       "\\item -3.8679326575185\n",
       "\\item -3.85605012010872\n",
       "\\item -3.80863182303106\n",
       "\\item -3.7723952105392\n",
       "\\item -3.75310570451576\n",
       "\\item -3.7206783540304\n",
       "\\item -3.61829333603681\n",
       "\\item -3.58579434007802\n",
       "\\item -3.53411397868067\n",
       "\\item -3.52198901990049\n",
       "\\item -3.49814155223252\n",
       "\\item -3.45163723871017\n",
       "\\item -3.43627363697987\n",
       "\\item -3.40868877772041\n",
       "\\item -3.37185101633086\n",
       "\\end{enumerate*}\n"
      ],
      "text/markdown": [
       "1. -4.1656505203643\n",
       "2. -4.07782693030781\n",
       "3. -4.04149143500206\n",
       "4. -3.99953379077803\n",
       "5. -3.92330242342773\n",
       "6. -3.8679326575185\n",
       "7. -3.85605012010872\n",
       "8. -3.80863182303106\n",
       "9. -3.7723952105392\n",
       "10. -3.75310570451576\n",
       "11. -3.7206783540304\n",
       "12. -3.61829333603681\n",
       "13. -3.58579434007802\n",
       "14. -3.53411397868067\n",
       "15. -3.52198901990049\n",
       "16. -3.49814155223252\n",
       "17. -3.45163723871017\n",
       "18. -3.43627363697987\n",
       "19. -3.40868877772041\n",
       "20. -3.37185101633086\n",
       "\n",
       "\n"
      ],
      "text/plain": [
       " [1] -4.165651 -4.077827 -4.041491 -3.999534 -3.923302 -3.867933 -3.856050\n",
       " [8] -3.808632 -3.772395 -3.753106 -3.720678 -3.618293 -3.585794 -3.534114\n",
       "[15] -3.521989 -3.498142 -3.451637 -3.436274 -3.408689 -3.371851"
      ]
     },
     "metadata": {},
     "output_type": "display_data"
    }
   ],
   "source": [
    "#4.Generate in-sample and out-sample predictions and compute variance of residuals [hint: residual= y_predicted - y_observed].\n",
    "Pred <- predict(model,testingData)\n",
    "Actual <- data.frame(cbind(actual = testingData$y,predicted = Pred))\n",
    "head(Actual)\n",
    "Residuals <- Actual$actual - Actual$predicted\n",
    "Residuals"
   ]
  },
  {
   "cell_type": "code",
   "execution_count": 23,
   "id": "2e041bc5",
   "metadata": {},
   "outputs": [
    {
     "data": {
      "image/png": "[encoded data removed]",
      "text/plain": [
       "Plot with title \"Market Predicted\""
      ]
     },
     "metadata": {},
     "output_type": "display_data"
    }
   ],
   "source": [
    "#5.Plot the actual and predicted results for y variable.\n",
    "plot(freeny$market.potential,type = \"p\",col = \"red\",pch = 19,ylab = \"market values\",main = \"Market Predicted\")\n",
    "points(Pred , type = \"p\" ,col = \"green\",pch = 19)\n",
    "legend(\"topright\",inset = .0005,c(\"Actual\",\"Predicted\"),lwd = 2,lty = c(1,1,1,1,2),col = c(\"red\",\"green\"),)"
   ]
  },
  {
   "cell_type": "markdown",
   "id": "eb64da16",
   "metadata": {},
   "source": [
    "## Good Job! You are done with the section!"
   ]
  },
  {
   "cell_type": "markdown",
   "id": "16ebad30",
   "metadata": {},
   "source": [
    "## Section 3: Machine Learning: Logistic Regression"
   ]
  },
  {
   "cell_type": "markdown",
   "id": "3f43d7fb",
   "metadata": {},
   "source": [
    "## Question 1\n",
    "### Construct a logistic regression model using the Smarket dataset:\n",
    "\n",
    "1. Your task is to predict the direction [Up: 1, Down:0].\n",
    "2. Use a combination of variables that produces the lowest residual variance.\n",
    "3. Plot the predicted vs. actual values.\n",
    "4. Construct variable importance plot for all the variables."
   ]
  },
  {
   "cell_type": "code",
   "execution_count": 1,
   "id": "108a13d6",
   "metadata": {},
   "outputs": [
    {
     "name": "stderr",
     "output_type": "stream",
     "text": [
      "Loading required package: ISLR\n"
     ]
    },
    {
     "data": {
      "text/html": [
       "<table>\n",
       "<thead><tr><th scope=col>Year</th><th scope=col>Lag1</th><th scope=col>Lag2</th><th scope=col>Lag3</th><th scope=col>Lag4</th><th scope=col>Lag5</th><th scope=col>Volume</th><th scope=col>Today</th><th scope=col>Direction</th></tr></thead>\n",
       "<tbody>\n",
       "\t<tr><td>2001  </td><td> 0.381</td><td>-0.192</td><td>-2.624</td><td>-1.055</td><td> 5.010</td><td>1.1913</td><td> 0.959</td><td>Up    </td></tr>\n",
       "\t<tr><td>2001  </td><td> 0.959</td><td> 0.381</td><td>-0.192</td><td>-2.624</td><td>-1.055</td><td>1.2965</td><td> 1.032</td><td>Up    </td></tr>\n",
       "\t<tr><td>2001  </td><td> 1.032</td><td> 0.959</td><td> 0.381</td><td>-0.192</td><td>-2.624</td><td>1.4112</td><td>-0.623</td><td>Down  </td></tr>\n",
       "\t<tr><td>2001  </td><td>-0.623</td><td> 1.032</td><td> 0.959</td><td> 0.381</td><td>-0.192</td><td>1.2760</td><td> 0.614</td><td>Up    </td></tr>\n",
       "\t<tr><td>2001  </td><td> 0.614</td><td>-0.623</td><td> 1.032</td><td> 0.959</td><td> 0.381</td><td>1.2057</td><td> 0.213</td><td>Up    </td></tr>\n",
       "\t<tr><td>2001  </td><td> 0.213</td><td> 0.614</td><td>-0.623</td><td> 1.032</td><td> 0.959</td><td>1.3491</td><td> 1.392</td><td>Up    </td></tr>\n",
       "</tbody>\n",
       "</table>\n"
      ],
      "text/latex": [
       "\\begin{tabular}{r|lllllllll}\n",
       " Year & Lag1 & Lag2 & Lag3 & Lag4 & Lag5 & Volume & Today & Direction\\\\\n",
       "\\hline\n",
       "\t 2001   &  0.381 & -0.192 & -2.624 & -1.055 &  5.010 & 1.1913 &  0.959 & Up    \\\\\n",
       "\t 2001   &  0.959 &  0.381 & -0.192 & -2.624 & -1.055 & 1.2965 &  1.032 & Up    \\\\\n",
       "\t 2001   &  1.032 &  0.959 &  0.381 & -0.192 & -2.624 & 1.4112 & -0.623 & Down  \\\\\n",
       "\t 2001   & -0.623 &  1.032 &  0.959 &  0.381 & -0.192 & 1.2760 &  0.614 & Up    \\\\\n",
       "\t 2001   &  0.614 & -0.623 &  1.032 &  0.959 &  0.381 & 1.2057 &  0.213 & Up    \\\\\n",
       "\t 2001   &  0.213 &  0.614 & -0.623 &  1.032 &  0.959 & 1.3491 &  1.392 & Up    \\\\\n",
       "\\end{tabular}\n"
      ],
      "text/markdown": [
       "\n",
       "| Year | Lag1 | Lag2 | Lag3 | Lag4 | Lag5 | Volume | Today | Direction |\n",
       "|---|---|---|---|---|---|---|---|---|\n",
       "| 2001   |  0.381 | -0.192 | -2.624 | -1.055 |  5.010 | 1.1913 |  0.959 | Up     |\n",
       "| 2001   |  0.959 |  0.381 | -0.192 | -2.624 | -1.055 | 1.2965 |  1.032 | Up     |\n",
       "| 2001   |  1.032 |  0.959 |  0.381 | -0.192 | -2.624 | 1.4112 | -0.623 | Down   |\n",
       "| 2001   | -0.623 |  1.032 |  0.959 |  0.381 | -0.192 | 1.2760 |  0.614 | Up     |\n",
       "| 2001   |  0.614 | -0.623 |  1.032 |  0.959 |  0.381 | 1.2057 |  0.213 | Up     |\n",
       "| 2001   |  0.213 |  0.614 | -0.623 |  1.032 |  0.959 | 1.3491 |  1.392 | Up     |\n",
       "\n"
      ],
      "text/plain": [
       "  Year Lag1   Lag2   Lag3   Lag4   Lag5   Volume Today  Direction\n",
       "1 2001  0.381 -0.192 -2.624 -1.055  5.010 1.1913  0.959 Up       \n",
       "2 2001  0.959  0.381 -0.192 -2.624 -1.055 1.2965  1.032 Up       \n",
       "3 2001  1.032  0.959  0.381 -0.192 -2.624 1.4112 -0.623 Down     \n",
       "4 2001 -0.623  1.032  0.959  0.381 -0.192 1.2760  0.614 Up       \n",
       "5 2001  0.614 -0.623  1.032  0.959  0.381 1.2057  0.213 Up       \n",
       "6 2001  0.213  0.614 -0.623  1.032  0.959 1.3491  1.392 Up       "
      ]
     },
     "metadata": {},
     "output_type": "display_data"
    }
   ],
   "source": [
    "#install.packages('ISLR')\n",
    "require('ISLR')\n",
    "head(Smarket)"
   ]
  },
  {
   "cell_type": "code",
   "execution_count": 2,
   "id": "b1562611",
   "metadata": {},
   "outputs": [
    {
     "data": {
      "text/html": [
       "1"
      ],
      "text/latex": [
       "1"
      ],
      "text/markdown": [
       "1"
      ],
      "text/plain": [
       "[1] 1"
      ]
     },
     "metadata": {},
     "output_type": "display_data"
    },
    {
     "name": "stdout",
     "output_type": "stream",
     "text": [
      "'data.frame':\t1250 obs. of  9 variables:\n",
      " $ Year     : num  2001 2001 2001 2001 2001 ...\n",
      " $ Lag1     : num  0.381 0.959 1.032 -0.623 0.614 ...\n",
      " $ Lag2     : num  -0.192 0.381 0.959 1.032 -0.623 ...\n",
      " $ Lag3     : num  -2.624 -0.192 0.381 0.959 1.032 ...\n",
      " $ Lag4     : num  -1.055 -2.624 -0.192 0.381 0.959 ...\n",
      " $ Lag5     : num  5.01 -1.055 -2.624 -0.192 0.381 ...\n",
      " $ Volume   : num  1.19 1.3 1.41 1.28 1.21 ...\n",
      " $ Today    : num  0.959 1.032 -0.623 0.614 0.213 ...\n",
      " $ Direction: Factor w/ 2 levels \"Down\",\"Up\": 2 2 1 2 2 2 1 2 2 2 ...\n"
     ]
    },
    {
     "data": {
      "text/plain": [
       "\n",
       "  0   1 \n",
       "602 648 "
      ]
     },
     "metadata": {},
     "output_type": "display_data"
    }
   ],
   "source": [
    "#1.Your task is to predict the direction [Up: 1, Down:0].\n",
    "Sm <- Smarket[complete.cases(Smarket), ] #create a copy\n",
    "#Look into the data structure\n",
    "str(Sm)\n",
    "#Change Y values to 1's and 0's\n",
    "Sm$Direction <- ifelse(Sm$Direction == \"Up\" ,1,0)\n",
    "#Sm$Direction <- factor(Sm$Direction,levels = c(0,1))\n",
    "table(Sm$Direction)"
   ]
  },
  {
   "cell_type": "code",
   "execution_count": 3,
   "id": "ca3ced9a",
   "metadata": {},
   "outputs": [
    {
     "data": {
      "text/plain": [
       "\n",
       "Call:\n",
       "glm(formula = Direction ~ Lag1 + Lag2 + Lag3 + Lag4 + Lag5 + \n",
       "    Volume, family = \"binomial\", data = Sm)\n",
       "\n",
       "Deviance Residuals: \n",
       "   Min      1Q  Median      3Q     Max  \n",
       "-1.446  -1.203   1.065   1.145   1.326  \n",
       "\n",
       "Coefficients:\n",
       "             Estimate Std. Error z value Pr(>|z|)\n",
       "(Intercept) -0.126000   0.240736  -0.523    0.601\n",
       "Lag1        -0.073074   0.050167  -1.457    0.145\n",
       "Lag2        -0.042301   0.050086  -0.845    0.398\n",
       "Lag3         0.011085   0.049939   0.222    0.824\n",
       "Lag4         0.009359   0.049974   0.187    0.851\n",
       "Lag5         0.010313   0.049511   0.208    0.835\n",
       "Volume       0.135441   0.158360   0.855    0.392\n",
       "\n",
       "(Dispersion parameter for binomial family taken to be 1)\n",
       "\n",
       "    Null deviance: 1731.2  on 1249  degrees of freedom\n",
       "Residual deviance: 1727.6  on 1243  degrees of freedom\n",
       "AIC: 1741.6\n",
       "\n",
       "Number of Fisher Scoring iterations: 3\n"
      ]
     },
     "metadata": {},
     "output_type": "display_data"
    }
   ],
   "source": [
    "#2.Use a combination of variables that produces the lowest residual variance.\n",
    "mylogit <- glm(Direction ~ Lag1 + Lag2  + Lag3 + Lag4 + Lag5 + Volume,family = \"binomial\",data = Sm)\n",
    "summary(mylogit)"
   ]
  },
  {
   "cell_type": "code",
   "execution_count": 4,
   "id": "8c12a834",
   "metadata": {},
   "outputs": [
    {
     "data": {
      "text/html": [
       "3"
      ],
      "text/latex": [
       "3"
      ],
      "text/markdown": [
       "3"
      ],
      "text/plain": [
       "[1] 3"
      ]
     },
     "metadata": {},
     "output_type": "display_data"
    },
    {
     "data": {
      "image/png": "[encoded data removed]",
      "text/plain": [
       "Plot with title \"Direction Prediction\""
      ]
     },
     "metadata": {},
     "output_type": "display_data"
    }
   ],
   "source": [
    "#3.Plot the predicted vs. actual values.\n",
    "predicted_data <- predict.glm(mylogit,Sm)\n",
    "par(mfrow = c(1,1))\n",
    "plot(Sm$Direction,type = \"p\",col = \"brown\" ,main = \"Direction Prediction\" ,ylab = \"Direction Value\")\n",
    "points(predicted_data, type = \"p\", col = \"orange\")\n",
    "legend(\"topright\",inset = .0005,c(\"Actual\",\"Prediction\"),lwd = 2,lty = c(1,1,1,1,2),col = c(\"brown\",\"orange\"))"
   ]
  },
  {
   "cell_type": "code",
   "execution_count": 5,
   "id": "57ca3126",
   "metadata": {},
   "outputs": [
    {
     "name": "stderr",
     "output_type": "stream",
     "text": [
      "Loading required package: lattice\n",
      "Loading required package: ggplot2\n",
      "Registered S3 methods overwritten by 'ggplot2':\n",
      "  method         from \n",
      "  [.quosures     rlang\n",
      "  c.quosures     rlang\n",
      "  print.quosures rlang\n"
     ]
    },
    {
     "data": {
      "image/png": "[encoded data removed]",
      "text/plain": [
       "Plot with title \"Variable Importance From Regression Model\""
      ]
     },
     "metadata": {},
     "output_type": "display_data"
    }
   ],
   "source": [
    "#4.Construct variable importance plot for all the variables.\n",
    "#install.packages(\"caret\")\n",
    "library(caret)\n",
    "imp <- varImp(mylogit)\n",
    "bp <- barplot(imp[,1],xlab = \"Importance\",ylab = \"Data Variables\",\n",
    "main = \"Variable Importance From Regression Model\",col = heat.colors(7),horiz = TRUE,xlim = range(0,10))\n",
    "a <- imp[,1]\n",
    "names <- rownames(imp)\n",
    "text(a,bp,names,pos = 4,cex = 1)"
   ]
  },
  {
   "cell_type": "markdown",
   "id": "45b157b1",
   "metadata": {},
   "source": [
    "### Good Job! You are done with the section!"
   ]
  },
  {
   "cell_type": "markdown",
   "id": "2e3dcdc5",
   "metadata": {},
   "source": [
    "## Section 4: Machine Learning: Decision Trees and Random Forests"
   ]
  },
  {
   "cell_type": "markdown",
   "id": "6c8cc173",
   "metadata": {},
   "source": [
    "## Question 1\n",
    "### Construct a decision tree for the following dataset:\n",
    "\n",
    "1. Your task is to predict whether the sales will be High or Low.\n",
    "2. You need to transform the Sale variable into binary variable: For sales less than 7.5, assign a value of Low and High otherwise. You will also need to transform ShelveLoc, Urban and US variables into binary variables.\n",
    "3. Generate a decision tree and plot the diagram for the tree and plot predicted vs. actual results.\n",
    "4. Attempt a random forest regression on the same dataset. Which model produces better results?"
   ]
  },
  {
   "cell_type": "code",
   "execution_count": 2,
   "id": "1be6639e",
   "metadata": {},
   "outputs": [
    {
     "name": "stderr",
     "output_type": "stream",
     "text": [
      "Loading required package: ISLR\n"
     ]
    }
   ],
   "source": [
    "#1.Your task is to predict whether the sales will be High or Low.\n",
    "require('ISLR')\n",
    "#head(Carseats)\n",
    "Data <- Carseats\n",
    "#library(rpart)\n",
    "#fit <- rpart(Sales ~ .,method = \"class\",data = Carseats)\n",
    "#summary(fit)"
   ]
  },
  {
   "cell_type": "code",
   "execution_count": 3,
   "id": "b408ef25",
   "metadata": {},
   "outputs": [],
   "source": [
    "#2.You need to transform the Sale variable into binary variable: For sales less than 7.5, assign a value of Low and High \n",
    "#otherwise. You will also need to transform ShelveLoc, Urban and US variables into binary variables.\n",
    "Data$Sales <- ifelse(Data$Sales <= 7.5 ,\"Low\",\"High\")"
   ]
  },
  {
   "cell_type": "code",
   "execution_count": 4,
   "id": "d9a39ccd",
   "metadata": {},
   "outputs": [],
   "source": [
    "Data$ShelveLoc <- as.numeric(Data$ShelveLoc)"
   ]
  },
  {
   "cell_type": "code",
   "execution_count": 5,
   "id": "69b877dc",
   "metadata": {},
   "outputs": [],
   "source": [
    "Data$ShelveLoc <- ifelse(Data$ShelveLoc >= 2,\"Yes\",\"No\")\n",
    "Data$ShelveLoc <- ifelse(Data$ShelveLoc ==\"Yes\",1,0)"
   ]
  },
  {
   "cell_type": "code",
   "execution_count": 6,
   "id": "54636aad",
   "metadata": {},
   "outputs": [
    {
     "data": {
      "text/html": [
       "<table>\n",
       "<thead><tr><th scope=col>Sales</th><th scope=col>CompPrice</th><th scope=col>Income</th><th scope=col>Advertising</th><th scope=col>Population</th><th scope=col>Price</th><th scope=col>ShelveLoc</th><th scope=col>Age</th><th scope=col>Education</th><th scope=col>Urban</th><th scope=col>US</th></tr></thead>\n",
       "<tbody>\n",
       "\t<tr><td>High</td><td>138 </td><td> 73 </td><td>11  </td><td>276 </td><td>120 </td><td>0   </td><td>42  </td><td>17  </td><td>1   </td><td>1   </td></tr>\n",
       "\t<tr><td>High</td><td>111 </td><td> 48 </td><td>16  </td><td>260 </td><td> 83 </td><td>1   </td><td>65  </td><td>10  </td><td>1   </td><td>1   </td></tr>\n",
       "\t<tr><td>High</td><td>113 </td><td> 35 </td><td>10  </td><td>269 </td><td> 80 </td><td>1   </td><td>59  </td><td>12  </td><td>1   </td><td>1   </td></tr>\n",
       "\t<tr><td>Low </td><td>117 </td><td>100 </td><td> 4  </td><td>466 </td><td> 97 </td><td>1   </td><td>55  </td><td>14  </td><td>1   </td><td>1   </td></tr>\n",
       "\t<tr><td>Low </td><td>141 </td><td> 64 </td><td> 3  </td><td>340 </td><td>128 </td><td>0   </td><td>38  </td><td>13  </td><td>1   </td><td>0   </td></tr>\n",
       "\t<tr><td>High</td><td>124 </td><td>113 </td><td>13  </td><td>501 </td><td> 72 </td><td>0   </td><td>78  </td><td>16  </td><td>0   </td><td>1   </td></tr>\n",
       "\t<tr><td>Low </td><td>115 </td><td>105 </td><td> 0  </td><td> 45 </td><td>108 </td><td>1   </td><td>71  </td><td>15  </td><td>1   </td><td>0   </td></tr>\n",
       "\t<tr><td>High</td><td>136 </td><td> 81 </td><td>15  </td><td>425 </td><td>120 </td><td>1   </td><td>67  </td><td>10  </td><td>1   </td><td>1   </td></tr>\n",
       "\t<tr><td>Low </td><td>132 </td><td>110 </td><td> 0  </td><td>108 </td><td>124 </td><td>1   </td><td>76  </td><td>10  </td><td>0   </td><td>0   </td></tr>\n",
       "\t<tr><td>Low </td><td>132 </td><td>113 </td><td> 0  </td><td>131 </td><td>124 </td><td>1   </td><td>76  </td><td>17  </td><td>0   </td><td>1   </td></tr>\n",
       "\t<tr><td>High</td><td>121 </td><td> 78 </td><td> 9  </td><td>150 </td><td>100 </td><td>0   </td><td>26  </td><td>10  </td><td>0   </td><td>1   </td></tr>\n",
       "\t<tr><td>High</td><td>117 </td><td> 94 </td><td> 4  </td><td>503 </td><td> 94 </td><td>1   </td><td>50  </td><td>13  </td><td>1   </td><td>1   </td></tr>\n",
       "\t<tr><td>Low </td><td>122 </td><td> 35 </td><td> 2  </td><td>393 </td><td>136 </td><td>1   </td><td>62  </td><td>18  </td><td>1   </td><td>0   </td></tr>\n",
       "\t<tr><td>High</td><td>115 </td><td> 28 </td><td>11  </td><td> 29 </td><td> 86 </td><td>1   </td><td>53  </td><td>18  </td><td>1   </td><td>1   </td></tr>\n",
       "\t<tr><td>High</td><td>107 </td><td>117 </td><td>11  </td><td>148 </td><td>118 </td><td>1   </td><td>52  </td><td>18  </td><td>1   </td><td>1   </td></tr>\n",
       "\t<tr><td>High</td><td>149 </td><td> 95 </td><td> 5  </td><td>400 </td><td>144 </td><td>1   </td><td>76  </td><td>18  </td><td>0   </td><td>0   </td></tr>\n",
       "\t<tr><td>High</td><td>118 </td><td> 32 </td><td> 0  </td><td>284 </td><td>110 </td><td>1   </td><td>63  </td><td>13  </td><td>1   </td><td>0   </td></tr>\n",
       "\t<tr><td>High</td><td>147 </td><td> 74 </td><td>13  </td><td>251 </td><td>131 </td><td>1   </td><td>52  </td><td>10  </td><td>1   </td><td>1   </td></tr>\n",
       "\t<tr><td>High</td><td>110 </td><td>110 </td><td> 0  </td><td>408 </td><td> 68 </td><td>1   </td><td>46  </td><td>17  </td><td>0   </td><td>1   </td></tr>\n",
       "\t<tr><td>High</td><td>129 </td><td> 76 </td><td>16  </td><td> 58 </td><td>121 </td><td>1   </td><td>69  </td><td>12  </td><td>1   </td><td>1   </td></tr>\n",
       "\t<tr><td>Low </td><td>125 </td><td> 90 </td><td> 2  </td><td>367 </td><td>131 </td><td>1   </td><td>35  </td><td>18  </td><td>1   </td><td>1   </td></tr>\n",
       "\t<tr><td>High</td><td>134 </td><td> 29 </td><td>12  </td><td>239 </td><td>109 </td><td>1   </td><td>62  </td><td>18  </td><td>0   </td><td>1   </td></tr>\n",
       "\t<tr><td>Low </td><td>128 </td><td> 46 </td><td> 6  </td><td>497 </td><td>138 </td><td>1   </td><td>42  </td><td>13  </td><td>1   </td><td>0   </td></tr>\n",
       "\t<tr><td>Low </td><td>121 </td><td> 31 </td><td> 0  </td><td>292 </td><td>109 </td><td>1   </td><td>79  </td><td>10  </td><td>1   </td><td>0   </td></tr>\n",
       "\t<tr><td>High</td><td>145 </td><td>119 </td><td>16  </td><td>294 </td><td>113 </td><td>0   </td><td>42  </td><td>12  </td><td>1   </td><td>1   </td></tr>\n",
       "\t<tr><td>High</td><td>139 </td><td> 32 </td><td> 0  </td><td>176 </td><td> 82 </td><td>1   </td><td>54  </td><td>11  </td><td>0   </td><td>0   </td></tr>\n",
       "\t<tr><td>High</td><td>107 </td><td>115 </td><td>11  </td><td>496 </td><td>131 </td><td>1   </td><td>50  </td><td>11  </td><td>0   </td><td>1   </td></tr>\n",
       "\t<tr><td>Low </td><td> 98 </td><td>118 </td><td> 0  </td><td> 19 </td><td>107 </td><td>1   </td><td>64  </td><td>17  </td><td>1   </td><td>0   </td></tr>\n",
       "\t<tr><td>Low </td><td>103 </td><td> 74 </td><td> 0  </td><td>359 </td><td> 97 </td><td>0   </td><td>55  </td><td>11  </td><td>1   </td><td>1   </td></tr>\n",
       "\t<tr><td>High</td><td>104 </td><td> 99 </td><td>15  </td><td>226 </td><td>102 </td><td>0   </td><td>58  </td><td>17  </td><td>1   </td><td>1   </td></tr>\n",
       "\t<tr><td>...</td><td>...</td><td>...</td><td>...</td><td>...</td><td>...</td><td>...</td><td>...</td><td>...</td><td>...</td><td>...</td></tr>\n",
       "\t<tr><td>High</td><td>126 </td><td> 41 </td><td>22  </td><td>403 </td><td>119 </td><td>0   </td><td>42  </td><td>12  </td><td>1   </td><td>1   </td></tr>\n",
       "\t<tr><td>High</td><td>152 </td><td> 81 </td><td> 0  </td><td>191 </td><td>126 </td><td>1   </td><td>54  </td><td>16  </td><td>1   </td><td>0   </td></tr>\n",
       "\t<tr><td>High</td><td>121 </td><td> 50 </td><td> 0  </td><td>508 </td><td> 98 </td><td>1   </td><td>65  </td><td>11  </td><td>0   </td><td>0   </td></tr>\n",
       "\t<tr><td>Low </td><td>137 </td><td> 71 </td><td> 0  </td><td>402 </td><td>116 </td><td>1   </td><td>78  </td><td>17  </td><td>1   </td><td>0   </td></tr>\n",
       "\t<tr><td>High</td><td>131 </td><td> 47 </td><td> 7  </td><td> 90 </td><td>118 </td><td>1   </td><td>47  </td><td>12  </td><td>1   </td><td>1   </td></tr>\n",
       "\t<tr><td>High</td><td>132 </td><td> 46 </td><td> 4  </td><td>206 </td><td>124 </td><td>1   </td><td>73  </td><td>11  </td><td>1   </td><td>0   </td></tr>\n",
       "\t<tr><td>High</td><td>141 </td><td> 60 </td><td>19  </td><td>319 </td><td> 92 </td><td>1   </td><td>44  </td><td>11  </td><td>1   </td><td>1   </td></tr>\n",
       "\t<tr><td>Low </td><td>132 </td><td> 61 </td><td> 0  </td><td>263 </td><td>125 </td><td>1   </td><td>41  </td><td>12  </td><td>0   </td><td>0   </td></tr>\n",
       "\t<tr><td>Low </td><td>133 </td><td> 88 </td><td> 3  </td><td>105 </td><td>119 </td><td>1   </td><td>79  </td><td>12  </td><td>1   </td><td>1   </td></tr>\n",
       "\t<tr><td>Low </td><td>125 </td><td>111 </td><td> 0  </td><td>404 </td><td>107 </td><td>0   </td><td>54  </td><td>15  </td><td>1   </td><td>0   </td></tr>\n",
       "\t<tr><td>High</td><td>106 </td><td> 64 </td><td>10  </td><td> 17 </td><td> 89 </td><td>1   </td><td>68  </td><td>17  </td><td>1   </td><td>1   </td></tr>\n",
       "\t<tr><td>Low </td><td>124 </td><td> 65 </td><td>21  </td><td>496 </td><td>151 </td><td>0   </td><td>77  </td><td>13  </td><td>1   </td><td>1   </td></tr>\n",
       "\t<tr><td>Low </td><td>121 </td><td> 28 </td><td>19  </td><td>315 </td><td>121 </td><td>1   </td><td>66  </td><td>14  </td><td>1   </td><td>1   </td></tr>\n",
       "\t<tr><td>High</td><td> 98 </td><td>117 </td><td> 0  </td><td> 76 </td><td> 68 </td><td>1   </td><td>63  </td><td>10  </td><td>1   </td><td>0   </td></tr>\n",
       "\t<tr><td>High</td><td>123 </td><td> 37 </td><td>15  </td><td>348 </td><td>112 </td><td>1   </td><td>28  </td><td>12  </td><td>1   </td><td>1   </td></tr>\n",
       "\t<tr><td>Low </td><td>131 </td><td> 73 </td><td>13  </td><td>455 </td><td>132 </td><td>1   </td><td>62  </td><td>17  </td><td>1   </td><td>1   </td></tr>\n",
       "\t<tr><td>Low </td><td>152 </td><td>116 </td><td> 0  </td><td>170 </td><td>160 </td><td>1   </td><td>39  </td><td>16  </td><td>1   </td><td>0   </td></tr>\n",
       "\t<tr><td>High</td><td>142 </td><td> 73 </td><td>14  </td><td>238 </td><td>115 </td><td>1   </td><td>73  </td><td>14  </td><td>0   </td><td>1   </td></tr>\n",
       "\t<tr><td>High</td><td>135 </td><td> 89 </td><td>11  </td><td>245 </td><td> 78 </td><td>0   </td><td>79  </td><td>16  </td><td>1   </td><td>1   </td></tr>\n",
       "\t<tr><td>High</td><td>128 </td><td> 42 </td><td> 8  </td><td>328 </td><td>107 </td><td>1   </td><td>35  </td><td>12  </td><td>1   </td><td>1   </td></tr>\n",
       "\t<tr><td>Low </td><td>108 </td><td> 75 </td><td> 9  </td><td> 61 </td><td>111 </td><td>1   </td><td>67  </td><td>12  </td><td>1   </td><td>1   </td></tr>\n",
       "\t<tr><td>Low </td><td>153 </td><td> 63 </td><td> 0  </td><td> 49 </td><td>124 </td><td>0   </td><td>56  </td><td>16  </td><td>1   </td><td>0   </td></tr>\n",
       "\t<tr><td>Low </td><td>129 </td><td> 42 </td><td>13  </td><td>315 </td><td>130 </td><td>0   </td><td>34  </td><td>13  </td><td>1   </td><td>1   </td></tr>\n",
       "\t<tr><td>Low </td><td>109 </td><td> 51 </td><td>10  </td><td> 26 </td><td>120 </td><td>1   </td><td>30  </td><td>17  </td><td>0   </td><td>1   </td></tr>\n",
       "\t<tr><td>Low </td><td>130 </td><td> 58 </td><td>19  </td><td>366 </td><td>139 </td><td>0   </td><td>33  </td><td>16  </td><td>1   </td><td>1   </td></tr>\n",
       "\t<tr><td>High</td><td>138 </td><td>108 </td><td>17  </td><td>203 </td><td>128 </td><td>1   </td><td>33  </td><td>14  </td><td>1   </td><td>1   </td></tr>\n",
       "\t<tr><td>Low </td><td>139 </td><td> 23 </td><td> 3  </td><td> 37 </td><td>120 </td><td>1   </td><td>55  </td><td>11  </td><td>0   </td><td>1   </td></tr>\n",
       "\t<tr><td>Low </td><td>162 </td><td> 26 </td><td>12  </td><td>368 </td><td>159 </td><td>1   </td><td>40  </td><td>18  </td><td>1   </td><td>1   </td></tr>\n",
       "\t<tr><td>Low </td><td>100 </td><td> 79 </td><td> 7  </td><td>284 </td><td> 95 </td><td>0   </td><td>50  </td><td>12  </td><td>1   </td><td>1   </td></tr>\n",
       "\t<tr><td>High</td><td>134 </td><td> 37 </td><td> 0  </td><td> 27 </td><td>120 </td><td>1   </td><td>49  </td><td>16  </td><td>1   </td><td>1   </td></tr>\n",
       "</tbody>\n",
       "</table>\n"
      ],
      "text/latex": [
       "\\begin{tabular}{r|lllllllllll}\n",
       " Sales & CompPrice & Income & Advertising & Population & Price & ShelveLoc & Age & Education & Urban & US\\\\\n",
       "\\hline\n",
       "\t High & 138  &  73  & 11   & 276  & 120  & 0    & 42   & 17   & 1    & 1   \\\\\n",
       "\t High & 111  &  48  & 16   & 260  &  83  & 1    & 65   & 10   & 1    & 1   \\\\\n",
       "\t High & 113  &  35  & 10   & 269  &  80  & 1    & 59   & 12   & 1    & 1   \\\\\n",
       "\t Low  & 117  & 100  &  4   & 466  &  97  & 1    & 55   & 14   & 1    & 1   \\\\\n",
       "\t Low  & 141  &  64  &  3   & 340  & 128  & 0    & 38   & 13   & 1    & 0   \\\\\n",
       "\t High & 124  & 113  & 13   & 501  &  72  & 0    & 78   & 16   & 0    & 1   \\\\\n",
       "\t Low  & 115  & 105  &  0   &  45  & 108  & 1    & 71   & 15   & 1    & 0   \\\\\n",
       "\t High & 136  &  81  & 15   & 425  & 120  & 1    & 67   & 10   & 1    & 1   \\\\\n",
       "\t Low  & 132  & 110  &  0   & 108  & 124  & 1    & 76   & 10   & 0    & 0   \\\\\n",
       "\t Low  & 132  & 113  &  0   & 131  & 124  & 1    & 76   & 17   & 0    & 1   \\\\\n",
       "\t High & 121  &  78  &  9   & 150  & 100  & 0    & 26   & 10   & 0    & 1   \\\\\n",
       "\t High & 117  &  94  &  4   & 503  &  94  & 1    & 50   & 13   & 1    & 1   \\\\\n",
       "\t Low  & 122  &  35  &  2   & 393  & 136  & 1    & 62   & 18   & 1    & 0   \\\\\n",
       "\t High & 115  &  28  & 11   &  29  &  86  & 1    & 53   & 18   & 1    & 1   \\\\\n",
       "\t High & 107  & 117  & 11   & 148  & 118  & 1    & 52   & 18   & 1    & 1   \\\\\n",
       "\t High & 149  &  95  &  5   & 400  & 144  & 1    & 76   & 18   & 0    & 0   \\\\\n",
       "\t High & 118  &  32  &  0   & 284  & 110  & 1    & 63   & 13   & 1    & 0   \\\\\n",
       "\t High & 147  &  74  & 13   & 251  & 131  & 1    & 52   & 10   & 1    & 1   \\\\\n",
       "\t High & 110  & 110  &  0   & 408  &  68  & 1    & 46   & 17   & 0    & 1   \\\\\n",
       "\t High & 129  &  76  & 16   &  58  & 121  & 1    & 69   & 12   & 1    & 1   \\\\\n",
       "\t Low  & 125  &  90  &  2   & 367  & 131  & 1    & 35   & 18   & 1    & 1   \\\\\n",
       "\t High & 134  &  29  & 12   & 239  & 109  & 1    & 62   & 18   & 0    & 1   \\\\\n",
       "\t Low  & 128  &  46  &  6   & 497  & 138  & 1    & 42   & 13   & 1    & 0   \\\\\n",
       "\t Low  & 121  &  31  &  0   & 292  & 109  & 1    & 79   & 10   & 1    & 0   \\\\\n",
       "\t High & 145  & 119  & 16   & 294  & 113  & 0    & 42   & 12   & 1    & 1   \\\\\n",
       "\t High & 139  &  32  &  0   & 176  &  82  & 1    & 54   & 11   & 0    & 0   \\\\\n",
       "\t High & 107  & 115  & 11   & 496  & 131  & 1    & 50   & 11   & 0    & 1   \\\\\n",
       "\t Low  &  98  & 118  &  0   &  19  & 107  & 1    & 64   & 17   & 1    & 0   \\\\\n",
       "\t Low  & 103  &  74  &  0   & 359  &  97  & 0    & 55   & 11   & 1    & 1   \\\\\n",
       "\t High & 104  &  99  & 15   & 226  & 102  & 0    & 58   & 17   & 1    & 1   \\\\\n",
       "\t ... & ... & ... & ... & ... & ... & ... & ... & ... & ... & ...\\\\\n",
       "\t High & 126  &  41  & 22   & 403  & 119  & 0    & 42   & 12   & 1    & 1   \\\\\n",
       "\t High & 152  &  81  &  0   & 191  & 126  & 1    & 54   & 16   & 1    & 0   \\\\\n",
       "\t High & 121  &  50  &  0   & 508  &  98  & 1    & 65   & 11   & 0    & 0   \\\\\n",
       "\t Low  & 137  &  71  &  0   & 402  & 116  & 1    & 78   & 17   & 1    & 0   \\\\\n",
       "\t High & 131  &  47  &  7   &  90  & 118  & 1    & 47   & 12   & 1    & 1   \\\\\n",
       "\t High & 132  &  46  &  4   & 206  & 124  & 1    & 73   & 11   & 1    & 0   \\\\\n",
       "\t High & 141  &  60  & 19   & 319  &  92  & 1    & 44   & 11   & 1    & 1   \\\\\n",
       "\t Low  & 132  &  61  &  0   & 263  & 125  & 1    & 41   & 12   & 0    & 0   \\\\\n",
       "\t Low  & 133  &  88  &  3   & 105  & 119  & 1    & 79   & 12   & 1    & 1   \\\\\n",
       "\t Low  & 125  & 111  &  0   & 404  & 107  & 0    & 54   & 15   & 1    & 0   \\\\\n",
       "\t High & 106  &  64  & 10   &  17  &  89  & 1    & 68   & 17   & 1    & 1   \\\\\n",
       "\t Low  & 124  &  65  & 21   & 496  & 151  & 0    & 77   & 13   & 1    & 1   \\\\\n",
       "\t Low  & 121  &  28  & 19   & 315  & 121  & 1    & 66   & 14   & 1    & 1   \\\\\n",
       "\t High &  98  & 117  &  0   &  76  &  68  & 1    & 63   & 10   & 1    & 0   \\\\\n",
       "\t High & 123  &  37  & 15   & 348  & 112  & 1    & 28   & 12   & 1    & 1   \\\\\n",
       "\t Low  & 131  &  73  & 13   & 455  & 132  & 1    & 62   & 17   & 1    & 1   \\\\\n",
       "\t Low  & 152  & 116  &  0   & 170  & 160  & 1    & 39   & 16   & 1    & 0   \\\\\n",
       "\t High & 142  &  73  & 14   & 238  & 115  & 1    & 73   & 14   & 0    & 1   \\\\\n",
       "\t High & 135  &  89  & 11   & 245  &  78  & 0    & 79   & 16   & 1    & 1   \\\\\n",
       "\t High & 128  &  42  &  8   & 328  & 107  & 1    & 35   & 12   & 1    & 1   \\\\\n",
       "\t Low  & 108  &  75  &  9   &  61  & 111  & 1    & 67   & 12   & 1    & 1   \\\\\n",
       "\t Low  & 153  &  63  &  0   &  49  & 124  & 0    & 56   & 16   & 1    & 0   \\\\\n",
       "\t Low  & 129  &  42  & 13   & 315  & 130  & 0    & 34   & 13   & 1    & 1   \\\\\n",
       "\t Low  & 109  &  51  & 10   &  26  & 120  & 1    & 30   & 17   & 0    & 1   \\\\\n",
       "\t Low  & 130  &  58  & 19   & 366  & 139  & 0    & 33   & 16   & 1    & 1   \\\\\n",
       "\t High & 138  & 108  & 17   & 203  & 128  & 1    & 33   & 14   & 1    & 1   \\\\\n",
       "\t Low  & 139  &  23  &  3   &  37  & 120  & 1    & 55   & 11   & 0    & 1   \\\\\n",
       "\t Low  & 162  &  26  & 12   & 368  & 159  & 1    & 40   & 18   & 1    & 1   \\\\\n",
       "\t Low  & 100  &  79  &  7   & 284  &  95  & 0    & 50   & 12   & 1    & 1   \\\\\n",
       "\t High & 134  &  37  &  0   &  27  & 120  & 1    & 49   & 16   & 1    & 1   \\\\\n",
       "\\end{tabular}\n"
      ],
      "text/markdown": [
       "\n",
       "| Sales | CompPrice | Income | Advertising | Population | Price | ShelveLoc | Age | Education | Urban | US |\n",
       "|---|---|---|---|---|---|---|---|---|---|---|\n",
       "| High | 138  |  73  | 11   | 276  | 120  | 0    | 42   | 17   | 1    | 1    |\n",
       "| High | 111  |  48  | 16   | 260  |  83  | 1    | 65   | 10   | 1    | 1    |\n",
       "| High | 113  |  35  | 10   | 269  |  80  | 1    | 59   | 12   | 1    | 1    |\n",
       "| Low  | 117  | 100  |  4   | 466  |  97  | 1    | 55   | 14   | 1    | 1    |\n",
       "| Low  | 141  |  64  |  3   | 340  | 128  | 0    | 38   | 13   | 1    | 0    |\n",
       "| High | 124  | 113  | 13   | 501  |  72  | 0    | 78   | 16   | 0    | 1    |\n",
       "| Low  | 115  | 105  |  0   |  45  | 108  | 1    | 71   | 15   | 1    | 0    |\n",
       "| High | 136  |  81  | 15   | 425  | 120  | 1    | 67   | 10   | 1    | 1    |\n",
       "| Low  | 132  | 110  |  0   | 108  | 124  | 1    | 76   | 10   | 0    | 0    |\n",
       "| Low  | 132  | 113  |  0   | 131  | 124  | 1    | 76   | 17   | 0    | 1    |\n",
       "| High | 121  |  78  |  9   | 150  | 100  | 0    | 26   | 10   | 0    | 1    |\n",
       "| High | 117  |  94  |  4   | 503  |  94  | 1    | 50   | 13   | 1    | 1    |\n",
       "| Low  | 122  |  35  |  2   | 393  | 136  | 1    | 62   | 18   | 1    | 0    |\n",
       "| High | 115  |  28  | 11   |  29  |  86  | 1    | 53   | 18   | 1    | 1    |\n",
       "| High | 107  | 117  | 11   | 148  | 118  | 1    | 52   | 18   | 1    | 1    |\n",
       "| High | 149  |  95  |  5   | 400  | 144  | 1    | 76   | 18   | 0    | 0    |\n",
       "| High | 118  |  32  |  0   | 284  | 110  | 1    | 63   | 13   | 1    | 0    |\n",
       "| High | 147  |  74  | 13   | 251  | 131  | 1    | 52   | 10   | 1    | 1    |\n",
       "| High | 110  | 110  |  0   | 408  |  68  | 1    | 46   | 17   | 0    | 1    |\n",
       "| High | 129  |  76  | 16   |  58  | 121  | 1    | 69   | 12   | 1    | 1    |\n",
       "| Low  | 125  |  90  |  2   | 367  | 131  | 1    | 35   | 18   | 1    | 1    |\n",
       "| High | 134  |  29  | 12   | 239  | 109  | 1    | 62   | 18   | 0    | 1    |\n",
       "| Low  | 128  |  46  |  6   | 497  | 138  | 1    | 42   | 13   | 1    | 0    |\n",
       "| Low  | 121  |  31  |  0   | 292  | 109  | 1    | 79   | 10   | 1    | 0    |\n",
       "| High | 145  | 119  | 16   | 294  | 113  | 0    | 42   | 12   | 1    | 1    |\n",
       "| High | 139  |  32  |  0   | 176  |  82  | 1    | 54   | 11   | 0    | 0    |\n",
       "| High | 107  | 115  | 11   | 496  | 131  | 1    | 50   | 11   | 0    | 1    |\n",
       "| Low  |  98  | 118  |  0   |  19  | 107  | 1    | 64   | 17   | 1    | 0    |\n",
       "| Low  | 103  |  74  |  0   | 359  |  97  | 0    | 55   | 11   | 1    | 1    |\n",
       "| High | 104  |  99  | 15   | 226  | 102  | 0    | 58   | 17   | 1    | 1    |\n",
       "| ... | ... | ... | ... | ... | ... | ... | ... | ... | ... | ... |\n",
       "| High | 126  |  41  | 22   | 403  | 119  | 0    | 42   | 12   | 1    | 1    |\n",
       "| High | 152  |  81  |  0   | 191  | 126  | 1    | 54   | 16   | 1    | 0    |\n",
       "| High | 121  |  50  |  0   | 508  |  98  | 1    | 65   | 11   | 0    | 0    |\n",
       "| Low  | 137  |  71  |  0   | 402  | 116  | 1    | 78   | 17   | 1    | 0    |\n",
       "| High | 131  |  47  |  7   |  90  | 118  | 1    | 47   | 12   | 1    | 1    |\n",
       "| High | 132  |  46  |  4   | 206  | 124  | 1    | 73   | 11   | 1    | 0    |\n",
       "| High | 141  |  60  | 19   | 319  |  92  | 1    | 44   | 11   | 1    | 1    |\n",
       "| Low  | 132  |  61  |  0   | 263  | 125  | 1    | 41   | 12   | 0    | 0    |\n",
       "| Low  | 133  |  88  |  3   | 105  | 119  | 1    | 79   | 12   | 1    | 1    |\n",
       "| Low  | 125  | 111  |  0   | 404  | 107  | 0    | 54   | 15   | 1    | 0    |\n",
       "| High | 106  |  64  | 10   |  17  |  89  | 1    | 68   | 17   | 1    | 1    |\n",
       "| Low  | 124  |  65  | 21   | 496  | 151  | 0    | 77   | 13   | 1    | 1    |\n",
       "| Low  | 121  |  28  | 19   | 315  | 121  | 1    | 66   | 14   | 1    | 1    |\n",
       "| High |  98  | 117  |  0   |  76  |  68  | 1    | 63   | 10   | 1    | 0    |\n",
       "| High | 123  |  37  | 15   | 348  | 112  | 1    | 28   | 12   | 1    | 1    |\n",
       "| Low  | 131  |  73  | 13   | 455  | 132  | 1    | 62   | 17   | 1    | 1    |\n",
       "| Low  | 152  | 116  |  0   | 170  | 160  | 1    | 39   | 16   | 1    | 0    |\n",
       "| High | 142  |  73  | 14   | 238  | 115  | 1    | 73   | 14   | 0    | 1    |\n",
       "| High | 135  |  89  | 11   | 245  |  78  | 0    | 79   | 16   | 1    | 1    |\n",
       "| High | 128  |  42  |  8   | 328  | 107  | 1    | 35   | 12   | 1    | 1    |\n",
       "| Low  | 108  |  75  |  9   |  61  | 111  | 1    | 67   | 12   | 1    | 1    |\n",
       "| Low  | 153  |  63  |  0   |  49  | 124  | 0    | 56   | 16   | 1    | 0    |\n",
       "| Low  | 129  |  42  | 13   | 315  | 130  | 0    | 34   | 13   | 1    | 1    |\n",
       "| Low  | 109  |  51  | 10   |  26  | 120  | 1    | 30   | 17   | 0    | 1    |\n",
       "| Low  | 130  |  58  | 19   | 366  | 139  | 0    | 33   | 16   | 1    | 1    |\n",
       "| High | 138  | 108  | 17   | 203  | 128  | 1    | 33   | 14   | 1    | 1    |\n",
       "| Low  | 139  |  23  |  3   |  37  | 120  | 1    | 55   | 11   | 0    | 1    |\n",
       "| Low  | 162  |  26  | 12   | 368  | 159  | 1    | 40   | 18   | 1    | 1    |\n",
       "| Low  | 100  |  79  |  7   | 284  |  95  | 0    | 50   | 12   | 1    | 1    |\n",
       "| High | 134  |  37  |  0   |  27  | 120  | 1    | 49   | 16   | 1    | 1    |\n",
       "\n"
      ],
      "text/plain": [
       "    Sales CompPrice Income Advertising Population Price ShelveLoc Age Education\n",
       "1   High  138        73    11          276        120   0         42  17       \n",
       "2   High  111        48    16          260         83   1         65  10       \n",
       "3   High  113        35    10          269         80   1         59  12       \n",
       "4   Low   117       100     4          466         97   1         55  14       \n",
       "5   Low   141        64     3          340        128   0         38  13       \n",
       "6   High  124       113    13          501         72   0         78  16       \n",
       "7   Low   115       105     0           45        108   1         71  15       \n",
       "8   High  136        81    15          425        120   1         67  10       \n",
       "9   Low   132       110     0          108        124   1         76  10       \n",
       "10  Low   132       113     0          131        124   1         76  17       \n",
       "11  High  121        78     9          150        100   0         26  10       \n",
       "12  High  117        94     4          503         94   1         50  13       \n",
       "13  Low   122        35     2          393        136   1         62  18       \n",
       "14  High  115        28    11           29         86   1         53  18       \n",
       "15  High  107       117    11          148        118   1         52  18       \n",
       "16  High  149        95     5          400        144   1         76  18       \n",
       "17  High  118        32     0          284        110   1         63  13       \n",
       "18  High  147        74    13          251        131   1         52  10       \n",
       "19  High  110       110     0          408         68   1         46  17       \n",
       "20  High  129        76    16           58        121   1         69  12       \n",
       "21  Low   125        90     2          367        131   1         35  18       \n",
       "22  High  134        29    12          239        109   1         62  18       \n",
       "23  Low   128        46     6          497        138   1         42  13       \n",
       "24  Low   121        31     0          292        109   1         79  10       \n",
       "25  High  145       119    16          294        113   0         42  12       \n",
       "26  High  139        32     0          176         82   1         54  11       \n",
       "27  High  107       115    11          496        131   1         50  11       \n",
       "28  Low    98       118     0           19        107   1         64  17       \n",
       "29  Low   103        74     0          359         97   0         55  11       \n",
       "30  High  104        99    15          226        102   0         58  17       \n",
       "... ...   ...       ...    ...         ...        ...   ...       ... ...      \n",
       "371 High  126        41    22          403        119   0         42  12       \n",
       "372 High  152        81     0          191        126   1         54  16       \n",
       "373 High  121        50     0          508         98   1         65  11       \n",
       "374 Low   137        71     0          402        116   1         78  17       \n",
       "375 High  131        47     7           90        118   1         47  12       \n",
       "376 High  132        46     4          206        124   1         73  11       \n",
       "377 High  141        60    19          319         92   1         44  11       \n",
       "378 Low   132        61     0          263        125   1         41  12       \n",
       "379 Low   133        88     3          105        119   1         79  12       \n",
       "380 Low   125       111     0          404        107   0         54  15       \n",
       "381 High  106        64    10           17         89   1         68  17       \n",
       "382 Low   124        65    21          496        151   0         77  13       \n",
       "383 Low   121        28    19          315        121   1         66  14       \n",
       "384 High   98       117     0           76         68   1         63  10       \n",
       "385 High  123        37    15          348        112   1         28  12       \n",
       "386 Low   131        73    13          455        132   1         62  17       \n",
       "387 Low   152       116     0          170        160   1         39  16       \n",
       "388 High  142        73    14          238        115   1         73  14       \n",
       "389 High  135        89    11          245         78   0         79  16       \n",
       "390 High  128        42     8          328        107   1         35  12       \n",
       "391 Low   108        75     9           61        111   1         67  12       \n",
       "392 Low   153        63     0           49        124   0         56  16       \n",
       "393 Low   129        42    13          315        130   0         34  13       \n",
       "394 Low   109        51    10           26        120   1         30  17       \n",
       "395 Low   130        58    19          366        139   0         33  16       \n",
       "396 High  138       108    17          203        128   1         33  14       \n",
       "397 Low   139        23     3           37        120   1         55  11       \n",
       "398 Low   162        26    12          368        159   1         40  18       \n",
       "399 Low   100        79     7          284         95   0         50  12       \n",
       "400 High  134        37     0           27        120   1         49  16       \n",
       "    Urban US \n",
       "1   1     1  \n",
       "2   1     1  \n",
       "3   1     1  \n",
       "4   1     1  \n",
       "5   1     0  \n",
       "6   0     1  \n",
       "7   1     0  \n",
       "8   1     1  \n",
       "9   0     0  \n",
       "10  0     1  \n",
       "11  0     1  \n",
       "12  1     1  \n",
       "13  1     0  \n",
       "14  1     1  \n",
       "15  1     1  \n",
       "16  0     0  \n",
       "17  1     0  \n",
       "18  1     1  \n",
       "19  0     1  \n",
       "20  1     1  \n",
       "21  1     1  \n",
       "22  0     1  \n",
       "23  1     0  \n",
       "24  1     0  \n",
       "25  1     1  \n",
       "26  0     0  \n",
       "27  0     1  \n",
       "28  1     0  \n",
       "29  1     1  \n",
       "30  1     1  \n",
       "... ...   ...\n",
       "371 1     1  \n",
       "372 1     0  \n",
       "373 0     0  \n",
       "374 1     0  \n",
       "375 1     1  \n",
       "376 1     0  \n",
       "377 1     1  \n",
       "378 0     0  \n",
       "379 1     1  \n",
       "380 1     0  \n",
       "381 1     1  \n",
       "382 1     1  \n",
       "383 1     1  \n",
       "384 1     0  \n",
       "385 1     1  \n",
       "386 1     1  \n",
       "387 1     0  \n",
       "388 0     1  \n",
       "389 1     1  \n",
       "390 1     1  \n",
       "391 1     1  \n",
       "392 1     0  \n",
       "393 1     1  \n",
       "394 0     1  \n",
       "395 1     1  \n",
       "396 1     1  \n",
       "397 0     1  \n",
       "398 1     1  \n",
       "399 1     1  \n",
       "400 1     1  "
      ]
     },
     "metadata": {},
     "output_type": "display_data"
    }
   ],
   "source": [
    "levels(Data$Urban) <- c(0,1)\n",
    "levels(Data$US) <- c(0,1)\n",
    "Data"
   ]
  },
  {
   "cell_type": "code",
   "execution_count": 7,
   "id": "04d16bf2",
   "metadata": {},
   "outputs": [
    {
     "name": "stderr",
     "output_type": "stream",
     "text": [
      "Warning message:\n",
      "\"package 'rattle' was built under R version 3.6.3\"Loading required package: tibble\n",
      "Loading required package: bitops\n",
      "Warning message:\n",
      "\"package 'bitops' was built under R version 3.6.3\"Rattle: A free graphical interface for data science with R.\n",
      "Version 5.4.0 Copyright (c) 2006-2020 Togaware Pty Ltd.\n",
      "Type 'rattle()' to shake, rattle, and roll your data.\n"
     ]
    },
    {
     "data": {
      "image/png": "[encoded data removed]",
      "text/plain": [
       "Plot with title \"\""
      ]
     },
     "metadata": {},
     "output_type": "display_data"
    }
   ],
   "source": [
    "#3.Generate a decision tree and plot the diagram for the tree and plot predicted vs. actual results.\n",
    "#install.packages(\"rpart\")\n",
    "#install.packages(\"rattle\")\n",
    "library(rattle)\n",
    "library(rpart)\n",
    "tree <- rpart(Sales ~ .,method = \"class\", data = Data)\n",
    "fancyRpartPlot(tree)"
   ]
  },
  {
   "cell_type": "code",
   "execution_count": 8,
   "id": "99faa8f5",
   "metadata": {},
   "outputs": [
    {
     "data": {
      "image/png": "[encoded data removed]",
      "text/plain": [
       "Plot with title \"Actual\""
      ]
     },
     "metadata": {},
     "output_type": "display_data"
    }
   ],
   "source": [
    "#3.plot predicted vs. actual results.\n",
    "Data$Sales = factor(Data$Sales)\n",
    "#Actual:-\n",
    "plot(Data$Sales,col=\"brown\",main = \"Actual\",ylab = \"Sales Values\")\n"
   ]
  },
  {
   "cell_type": "code",
   "execution_count": 9,
   "id": "4694614f",
   "metadata": {},
   "outputs": [
    {
     "data": {
      "image/png": "[encoded data removed]",
      "text/plain": [
       "Plot with title \"Predicted\""
      ]
     },
     "metadata": {},
     "output_type": "display_data"
    }
   ],
   "source": [
    "#3.plot predicted vs. actual results.\n",
    "#Prediction\n",
    "Predicted_data <-predict(tree,Data,type = \"class\")\n",
    "plot(Predicted_data,col = \"blue\",main = \"Predicted\",ylab = \"Sales Values\")"
   ]
  },
  {
   "cell_type": "code",
   "execution_count": 9,
   "id": "ddfbea8e",
   "metadata": {},
   "outputs": [
    {
     "name": "stderr",
     "output_type": "stream",
     "text": [
      "randomForest 4.6-14\n",
      "Type rfNews() to see new features/changes/bug fixes.\n",
      "\n",
      "Attaching package: 'randomForest'\n",
      "\n",
      "The following object is masked from 'package:rattle':\n",
      "\n",
      "    importance\n",
      "\n"
     ]
    },
    {
     "name": "stdout",
     "output_type": "stream",
     "text": [
      "\n",
      "Call:\n",
      " randomForest(formula = Sales ~ ., data = Data, mtry = 4, ntree = 500) \n",
      "               Type of random forest: classification\n",
      "                     Number of trees: 500\n",
      "No. of variables tried at each split: 4\n",
      "\n",
      "        OOB estimate of  error rate: 22.5%\n",
      "Confusion matrix:\n",
      "     High Low class.error\n",
      "High  145  53   0.2676768\n",
      "Low    37 165   0.1831683\n"
     ]
    },
    {
     "data": {
      "text/html": [
       "<table>\n",
       "<thead><tr><th></th><th scope=col>MeanDecreaseGini</th></tr></thead>\n",
       "<tbody>\n",
       "\t<tr><th scope=row>CompPrice</th><td>26.348657</td></tr>\n",
       "\t<tr><th scope=row>Income</th><td>21.910454</td></tr>\n",
       "\t<tr><th scope=row>Advertising</th><td>23.600897</td></tr>\n",
       "\t<tr><th scope=row>Population</th><td>17.855195</td></tr>\n",
       "\t<tr><th scope=row>Price</th><td>53.466176</td></tr>\n",
       "\t<tr><th scope=row>ShelveLoc</th><td>14.897101</td></tr>\n",
       "\t<tr><th scope=row>Age</th><td>26.106014</td></tr>\n",
       "\t<tr><th scope=row>Education</th><td>10.760024</td></tr>\n",
       "\t<tr><th scope=row>Urban</th><td> 2.381419</td></tr>\n",
       "\t<tr><th scope=row>US</th><td> 2.119357</td></tr>\n",
       "</tbody>\n",
       "</table>\n"
      ],
      "text/latex": [
       "\\begin{tabular}{r|l}\n",
       "  & MeanDecreaseGini\\\\\n",
       "\\hline\n",
       "\tCompPrice & 26.348657\\\\\n",
       "\tIncome & 21.910454\\\\\n",
       "\tAdvertising & 23.600897\\\\\n",
       "\tPopulation & 17.855195\\\\\n",
       "\tPrice & 53.466176\\\\\n",
       "\tShelveLoc & 14.897101\\\\\n",
       "\tAge & 26.106014\\\\\n",
       "\tEducation & 10.760024\\\\\n",
       "\tUrban &  2.381419\\\\\n",
       "\tUS &  2.119357\\\\\n",
       "\\end{tabular}\n"
      ],
      "text/markdown": [
       "\n",
       "| <!--/--> | MeanDecreaseGini |\n",
       "|---|---|\n",
       "| CompPrice | 26.348657 |\n",
       "| Income | 21.910454 |\n",
       "| Advertising | 23.600897 |\n",
       "| Population | 17.855195 |\n",
       "| Price | 53.466176 |\n",
       "| ShelveLoc | 14.897101 |\n",
       "| Age | 26.106014 |\n",
       "| Education | 10.760024 |\n",
       "| Urban |  2.381419 |\n",
       "| US |  2.119357 |\n",
       "\n"
      ],
      "text/plain": [
       "            MeanDecreaseGini\n",
       "CompPrice   26.348657       \n",
       "Income      21.910454       \n",
       "Advertising 23.600897       \n",
       "Population  17.855195       \n",
       "Price       53.466176       \n",
       "ShelveLoc   14.897101       \n",
       "Age         26.106014       \n",
       "Education   10.760024       \n",
       "Urban        2.381419       \n",
       "US           2.119357       "
      ]
     },
     "metadata": {},
     "output_type": "display_data"
    },
    {
     "data": {
      "image/png": "[encoded data removed]",
      "text/plain": [
       "Plot with title \"RandomForest\""
      ]
     },
     "metadata": {},
     "output_type": "display_data"
    }
   ],
   "source": [
    "#4.Attempt a random forest regression on the same dataset. Which model produces better results?\n",
    "library(randomForest)\n",
    "RandomForest <- randomForest(Sales ~ .,data = Data,mtry = 4,ntree = 500)\n",
    "print(RandomForest)\n",
    "plot(RandomForest)\n",
    "importance(RandomForest)\n",
    "#Random Forest produces better result than decision tree."
   ]
  },
  {
   "cell_type": "markdown",
   "id": "cfd52b54",
   "metadata": {},
   "source": [
    "### Good Job! You are done with the section!"
   ]
  },
  {
   "cell_type": "markdown",
   "id": "31e3e41a",
   "metadata": {},
   "source": [
    "## Section 5: Neural Networks"
   ]
  },
  {
   "cell_type": "markdown",
   "id": "820b283a",
   "metadata": {},
   "source": [
    "## Question 1\n",
    "#### Construct a neural network for the same dataset:\n",
    "\n",
    "1. Your task is to predict whether the sales will be High or Low.\n",
    "2. Perform necessary data transformations as required.\n",
    "3. Generate neural network with 3 layers and 2,3,4 nodes respectively.\n",
    "4. Plot the nn.\n"
   ]
  },
  {
   "cell_type": "code",
   "execution_count": 14,
   "id": "c133fe7d",
   "metadata": {},
   "outputs": [
    {
     "data": {
      "text/html": [
       "<table>\n",
       "<thead><tr><th scope=col>Sales</th><th scope=col>CompPrice</th><th scope=col>Income</th><th scope=col>Advertising</th><th scope=col>Population</th><th scope=col>Price</th><th scope=col>ShelveLoc</th><th scope=col>Age</th><th scope=col>Education</th><th scope=col>Urban</th><th scope=col>US</th></tr></thead>\n",
       "<tbody>\n",
       "\t<tr><td>High</td><td>138 </td><td> 73 </td><td>11  </td><td>276 </td><td>120 </td><td>0   </td><td>42  </td><td>17  </td><td>1   </td><td>1   </td></tr>\n",
       "\t<tr><td>High</td><td>111 </td><td> 48 </td><td>16  </td><td>260 </td><td> 83 </td><td>1   </td><td>65  </td><td>10  </td><td>1   </td><td>1   </td></tr>\n",
       "\t<tr><td>High</td><td>113 </td><td> 35 </td><td>10  </td><td>269 </td><td> 80 </td><td>1   </td><td>59  </td><td>12  </td><td>1   </td><td>1   </td></tr>\n",
       "\t<tr><td>Low </td><td>117 </td><td>100 </td><td> 4  </td><td>466 </td><td> 97 </td><td>1   </td><td>55  </td><td>14  </td><td>1   </td><td>1   </td></tr>\n",
       "\t<tr><td>Low </td><td>141 </td><td> 64 </td><td> 3  </td><td>340 </td><td>128 </td><td>0   </td><td>38  </td><td>13  </td><td>1   </td><td>0   </td></tr>\n",
       "\t<tr><td>High</td><td>124 </td><td>113 </td><td>13  </td><td>501 </td><td> 72 </td><td>0   </td><td>78  </td><td>16  </td><td>0   </td><td>1   </td></tr>\n",
       "\t<tr><td>Low </td><td>115 </td><td>105 </td><td> 0  </td><td> 45 </td><td>108 </td><td>1   </td><td>71  </td><td>15  </td><td>1   </td><td>0   </td></tr>\n",
       "\t<tr><td>High</td><td>136 </td><td> 81 </td><td>15  </td><td>425 </td><td>120 </td><td>1   </td><td>67  </td><td>10  </td><td>1   </td><td>1   </td></tr>\n",
       "\t<tr><td>Low </td><td>132 </td><td>110 </td><td> 0  </td><td>108 </td><td>124 </td><td>1   </td><td>76  </td><td>10  </td><td>0   </td><td>0   </td></tr>\n",
       "\t<tr><td>Low </td><td>132 </td><td>113 </td><td> 0  </td><td>131 </td><td>124 </td><td>1   </td><td>76  </td><td>17  </td><td>0   </td><td>1   </td></tr>\n",
       "\t<tr><td>High</td><td>121 </td><td> 78 </td><td> 9  </td><td>150 </td><td>100 </td><td>0   </td><td>26  </td><td>10  </td><td>0   </td><td>1   </td></tr>\n",
       "\t<tr><td>High</td><td>117 </td><td> 94 </td><td> 4  </td><td>503 </td><td> 94 </td><td>1   </td><td>50  </td><td>13  </td><td>1   </td><td>1   </td></tr>\n",
       "\t<tr><td>Low </td><td>122 </td><td> 35 </td><td> 2  </td><td>393 </td><td>136 </td><td>1   </td><td>62  </td><td>18  </td><td>1   </td><td>0   </td></tr>\n",
       "\t<tr><td>High</td><td>115 </td><td> 28 </td><td>11  </td><td> 29 </td><td> 86 </td><td>1   </td><td>53  </td><td>18  </td><td>1   </td><td>1   </td></tr>\n",
       "\t<tr><td>High</td><td>107 </td><td>117 </td><td>11  </td><td>148 </td><td>118 </td><td>1   </td><td>52  </td><td>18  </td><td>1   </td><td>1   </td></tr>\n",
       "\t<tr><td>High</td><td>149 </td><td> 95 </td><td> 5  </td><td>400 </td><td>144 </td><td>1   </td><td>76  </td><td>18  </td><td>0   </td><td>0   </td></tr>\n",
       "\t<tr><td>High</td><td>118 </td><td> 32 </td><td> 0  </td><td>284 </td><td>110 </td><td>1   </td><td>63  </td><td>13  </td><td>1   </td><td>0   </td></tr>\n",
       "\t<tr><td>High</td><td>147 </td><td> 74 </td><td>13  </td><td>251 </td><td>131 </td><td>1   </td><td>52  </td><td>10  </td><td>1   </td><td>1   </td></tr>\n",
       "\t<tr><td>High</td><td>110 </td><td>110 </td><td> 0  </td><td>408 </td><td> 68 </td><td>1   </td><td>46  </td><td>17  </td><td>0   </td><td>1   </td></tr>\n",
       "\t<tr><td>High</td><td>129 </td><td> 76 </td><td>16  </td><td> 58 </td><td>121 </td><td>1   </td><td>69  </td><td>12  </td><td>1   </td><td>1   </td></tr>\n",
       "\t<tr><td>Low </td><td>125 </td><td> 90 </td><td> 2  </td><td>367 </td><td>131 </td><td>1   </td><td>35  </td><td>18  </td><td>1   </td><td>1   </td></tr>\n",
       "\t<tr><td>High</td><td>134 </td><td> 29 </td><td>12  </td><td>239 </td><td>109 </td><td>1   </td><td>62  </td><td>18  </td><td>0   </td><td>1   </td></tr>\n",
       "\t<tr><td>Low </td><td>128 </td><td> 46 </td><td> 6  </td><td>497 </td><td>138 </td><td>1   </td><td>42  </td><td>13  </td><td>1   </td><td>0   </td></tr>\n",
       "\t<tr><td>Low </td><td>121 </td><td> 31 </td><td> 0  </td><td>292 </td><td>109 </td><td>1   </td><td>79  </td><td>10  </td><td>1   </td><td>0   </td></tr>\n",
       "\t<tr><td>High</td><td>145 </td><td>119 </td><td>16  </td><td>294 </td><td>113 </td><td>0   </td><td>42  </td><td>12  </td><td>1   </td><td>1   </td></tr>\n",
       "\t<tr><td>High</td><td>139 </td><td> 32 </td><td> 0  </td><td>176 </td><td> 82 </td><td>1   </td><td>54  </td><td>11  </td><td>0   </td><td>0   </td></tr>\n",
       "\t<tr><td>High</td><td>107 </td><td>115 </td><td>11  </td><td>496 </td><td>131 </td><td>1   </td><td>50  </td><td>11  </td><td>0   </td><td>1   </td></tr>\n",
       "\t<tr><td>Low </td><td> 98 </td><td>118 </td><td> 0  </td><td> 19 </td><td>107 </td><td>1   </td><td>64  </td><td>17  </td><td>1   </td><td>0   </td></tr>\n",
       "\t<tr><td>Low </td><td>103 </td><td> 74 </td><td> 0  </td><td>359 </td><td> 97 </td><td>0   </td><td>55  </td><td>11  </td><td>1   </td><td>1   </td></tr>\n",
       "\t<tr><td>High</td><td>104 </td><td> 99 </td><td>15  </td><td>226 </td><td>102 </td><td>0   </td><td>58  </td><td>17  </td><td>1   </td><td>1   </td></tr>\n",
       "\t<tr><td>...</td><td>...</td><td>...</td><td>...</td><td>...</td><td>...</td><td>...</td><td>...</td><td>...</td><td>...</td><td>...</td></tr>\n",
       "\t<tr><td>High</td><td>126 </td><td> 41 </td><td>22  </td><td>403 </td><td>119 </td><td>0   </td><td>42  </td><td>12  </td><td>1   </td><td>1   </td></tr>\n",
       "\t<tr><td>High</td><td>152 </td><td> 81 </td><td> 0  </td><td>191 </td><td>126 </td><td>1   </td><td>54  </td><td>16  </td><td>1   </td><td>0   </td></tr>\n",
       "\t<tr><td>High</td><td>121 </td><td> 50 </td><td> 0  </td><td>508 </td><td> 98 </td><td>1   </td><td>65  </td><td>11  </td><td>0   </td><td>0   </td></tr>\n",
       "\t<tr><td>Low </td><td>137 </td><td> 71 </td><td> 0  </td><td>402 </td><td>116 </td><td>1   </td><td>78  </td><td>17  </td><td>1   </td><td>0   </td></tr>\n",
       "\t<tr><td>High</td><td>131 </td><td> 47 </td><td> 7  </td><td> 90 </td><td>118 </td><td>1   </td><td>47  </td><td>12  </td><td>1   </td><td>1   </td></tr>\n",
       "\t<tr><td>High</td><td>132 </td><td> 46 </td><td> 4  </td><td>206 </td><td>124 </td><td>1   </td><td>73  </td><td>11  </td><td>1   </td><td>0   </td></tr>\n",
       "\t<tr><td>High</td><td>141 </td><td> 60 </td><td>19  </td><td>319 </td><td> 92 </td><td>1   </td><td>44  </td><td>11  </td><td>1   </td><td>1   </td></tr>\n",
       "\t<tr><td>Low </td><td>132 </td><td> 61 </td><td> 0  </td><td>263 </td><td>125 </td><td>1   </td><td>41  </td><td>12  </td><td>0   </td><td>0   </td></tr>\n",
       "\t<tr><td>Low </td><td>133 </td><td> 88 </td><td> 3  </td><td>105 </td><td>119 </td><td>1   </td><td>79  </td><td>12  </td><td>1   </td><td>1   </td></tr>\n",
       "\t<tr><td>Low </td><td>125 </td><td>111 </td><td> 0  </td><td>404 </td><td>107 </td><td>0   </td><td>54  </td><td>15  </td><td>1   </td><td>0   </td></tr>\n",
       "\t<tr><td>High</td><td>106 </td><td> 64 </td><td>10  </td><td> 17 </td><td> 89 </td><td>1   </td><td>68  </td><td>17  </td><td>1   </td><td>1   </td></tr>\n",
       "\t<tr><td>Low </td><td>124 </td><td> 65 </td><td>21  </td><td>496 </td><td>151 </td><td>0   </td><td>77  </td><td>13  </td><td>1   </td><td>1   </td></tr>\n",
       "\t<tr><td>Low </td><td>121 </td><td> 28 </td><td>19  </td><td>315 </td><td>121 </td><td>1   </td><td>66  </td><td>14  </td><td>1   </td><td>1   </td></tr>\n",
       "\t<tr><td>High</td><td> 98 </td><td>117 </td><td> 0  </td><td> 76 </td><td> 68 </td><td>1   </td><td>63  </td><td>10  </td><td>1   </td><td>0   </td></tr>\n",
       "\t<tr><td>High</td><td>123 </td><td> 37 </td><td>15  </td><td>348 </td><td>112 </td><td>1   </td><td>28  </td><td>12  </td><td>1   </td><td>1   </td></tr>\n",
       "\t<tr><td>Low </td><td>131 </td><td> 73 </td><td>13  </td><td>455 </td><td>132 </td><td>1   </td><td>62  </td><td>17  </td><td>1   </td><td>1   </td></tr>\n",
       "\t<tr><td>Low </td><td>152 </td><td>116 </td><td> 0  </td><td>170 </td><td>160 </td><td>1   </td><td>39  </td><td>16  </td><td>1   </td><td>0   </td></tr>\n",
       "\t<tr><td>High</td><td>142 </td><td> 73 </td><td>14  </td><td>238 </td><td>115 </td><td>1   </td><td>73  </td><td>14  </td><td>0   </td><td>1   </td></tr>\n",
       "\t<tr><td>High</td><td>135 </td><td> 89 </td><td>11  </td><td>245 </td><td> 78 </td><td>0   </td><td>79  </td><td>16  </td><td>1   </td><td>1   </td></tr>\n",
       "\t<tr><td>High</td><td>128 </td><td> 42 </td><td> 8  </td><td>328 </td><td>107 </td><td>1   </td><td>35  </td><td>12  </td><td>1   </td><td>1   </td></tr>\n",
       "\t<tr><td>Low </td><td>108 </td><td> 75 </td><td> 9  </td><td> 61 </td><td>111 </td><td>1   </td><td>67  </td><td>12  </td><td>1   </td><td>1   </td></tr>\n",
       "\t<tr><td>Low </td><td>153 </td><td> 63 </td><td> 0  </td><td> 49 </td><td>124 </td><td>0   </td><td>56  </td><td>16  </td><td>1   </td><td>0   </td></tr>\n",
       "\t<tr><td>Low </td><td>129 </td><td> 42 </td><td>13  </td><td>315 </td><td>130 </td><td>0   </td><td>34  </td><td>13  </td><td>1   </td><td>1   </td></tr>\n",
       "\t<tr><td>Low </td><td>109 </td><td> 51 </td><td>10  </td><td> 26 </td><td>120 </td><td>1   </td><td>30  </td><td>17  </td><td>0   </td><td>1   </td></tr>\n",
       "\t<tr><td>Low </td><td>130 </td><td> 58 </td><td>19  </td><td>366 </td><td>139 </td><td>0   </td><td>33  </td><td>16  </td><td>1   </td><td>1   </td></tr>\n",
       "\t<tr><td>High</td><td>138 </td><td>108 </td><td>17  </td><td>203 </td><td>128 </td><td>1   </td><td>33  </td><td>14  </td><td>1   </td><td>1   </td></tr>\n",
       "\t<tr><td>Low </td><td>139 </td><td> 23 </td><td> 3  </td><td> 37 </td><td>120 </td><td>1   </td><td>55  </td><td>11  </td><td>0   </td><td>1   </td></tr>\n",
       "\t<tr><td>Low </td><td>162 </td><td> 26 </td><td>12  </td><td>368 </td><td>159 </td><td>1   </td><td>40  </td><td>18  </td><td>1   </td><td>1   </td></tr>\n",
       "\t<tr><td>Low </td><td>100 </td><td> 79 </td><td> 7  </td><td>284 </td><td> 95 </td><td>0   </td><td>50  </td><td>12  </td><td>1   </td><td>1   </td></tr>\n",
       "\t<tr><td>High</td><td>134 </td><td> 37 </td><td> 0  </td><td> 27 </td><td>120 </td><td>1   </td><td>49  </td><td>16  </td><td>1   </td><td>1   </td></tr>\n",
       "</tbody>\n",
       "</table>\n"
      ],
      "text/latex": [
       "\\begin{tabular}{r|lllllllllll}\n",
       " Sales & CompPrice & Income & Advertising & Population & Price & ShelveLoc & Age & Education & Urban & US\\\\\n",
       "\\hline\n",
       "\t High & 138  &  73  & 11   & 276  & 120  & 0    & 42   & 17   & 1    & 1   \\\\\n",
       "\t High & 111  &  48  & 16   & 260  &  83  & 1    & 65   & 10   & 1    & 1   \\\\\n",
       "\t High & 113  &  35  & 10   & 269  &  80  & 1    & 59   & 12   & 1    & 1   \\\\\n",
       "\t Low  & 117  & 100  &  4   & 466  &  97  & 1    & 55   & 14   & 1    & 1   \\\\\n",
       "\t Low  & 141  &  64  &  3   & 340  & 128  & 0    & 38   & 13   & 1    & 0   \\\\\n",
       "\t High & 124  & 113  & 13   & 501  &  72  & 0    & 78   & 16   & 0    & 1   \\\\\n",
       "\t Low  & 115  & 105  &  0   &  45  & 108  & 1    & 71   & 15   & 1    & 0   \\\\\n",
       "\t High & 136  &  81  & 15   & 425  & 120  & 1    & 67   & 10   & 1    & 1   \\\\\n",
       "\t Low  & 132  & 110  &  0   & 108  & 124  & 1    & 76   & 10   & 0    & 0   \\\\\n",
       "\t Low  & 132  & 113  &  0   & 131  & 124  & 1    & 76   & 17   & 0    & 1   \\\\\n",
       "\t High & 121  &  78  &  9   & 150  & 100  & 0    & 26   & 10   & 0    & 1   \\\\\n",
       "\t High & 117  &  94  &  4   & 503  &  94  & 1    & 50   & 13   & 1    & 1   \\\\\n",
       "\t Low  & 122  &  35  &  2   & 393  & 136  & 1    & 62   & 18   & 1    & 0   \\\\\n",
       "\t High & 115  &  28  & 11   &  29  &  86  & 1    & 53   & 18   & 1    & 1   \\\\\n",
       "\t High & 107  & 117  & 11   & 148  & 118  & 1    & 52   & 18   & 1    & 1   \\\\\n",
       "\t High & 149  &  95  &  5   & 400  & 144  & 1    & 76   & 18   & 0    & 0   \\\\\n",
       "\t High & 118  &  32  &  0   & 284  & 110  & 1    & 63   & 13   & 1    & 0   \\\\\n",
       "\t High & 147  &  74  & 13   & 251  & 131  & 1    & 52   & 10   & 1    & 1   \\\\\n",
       "\t High & 110  & 110  &  0   & 408  &  68  & 1    & 46   & 17   & 0    & 1   \\\\\n",
       "\t High & 129  &  76  & 16   &  58  & 121  & 1    & 69   & 12   & 1    & 1   \\\\\n",
       "\t Low  & 125  &  90  &  2   & 367  & 131  & 1    & 35   & 18   & 1    & 1   \\\\\n",
       "\t High & 134  &  29  & 12   & 239  & 109  & 1    & 62   & 18   & 0    & 1   \\\\\n",
       "\t Low  & 128  &  46  &  6   & 497  & 138  & 1    & 42   & 13   & 1    & 0   \\\\\n",
       "\t Low  & 121  &  31  &  0   & 292  & 109  & 1    & 79   & 10   & 1    & 0   \\\\\n",
       "\t High & 145  & 119  & 16   & 294  & 113  & 0    & 42   & 12   & 1    & 1   \\\\\n",
       "\t High & 139  &  32  &  0   & 176  &  82  & 1    & 54   & 11   & 0    & 0   \\\\\n",
       "\t High & 107  & 115  & 11   & 496  & 131  & 1    & 50   & 11   & 0    & 1   \\\\\n",
       "\t Low  &  98  & 118  &  0   &  19  & 107  & 1    & 64   & 17   & 1    & 0   \\\\\n",
       "\t Low  & 103  &  74  &  0   & 359  &  97  & 0    & 55   & 11   & 1    & 1   \\\\\n",
       "\t High & 104  &  99  & 15   & 226  & 102  & 0    & 58   & 17   & 1    & 1   \\\\\n",
       "\t ... & ... & ... & ... & ... & ... & ... & ... & ... & ... & ...\\\\\n",
       "\t High & 126  &  41  & 22   & 403  & 119  & 0    & 42   & 12   & 1    & 1   \\\\\n",
       "\t High & 152  &  81  &  0   & 191  & 126  & 1    & 54   & 16   & 1    & 0   \\\\\n",
       "\t High & 121  &  50  &  0   & 508  &  98  & 1    & 65   & 11   & 0    & 0   \\\\\n",
       "\t Low  & 137  &  71  &  0   & 402  & 116  & 1    & 78   & 17   & 1    & 0   \\\\\n",
       "\t High & 131  &  47  &  7   &  90  & 118  & 1    & 47   & 12   & 1    & 1   \\\\\n",
       "\t High & 132  &  46  &  4   & 206  & 124  & 1    & 73   & 11   & 1    & 0   \\\\\n",
       "\t High & 141  &  60  & 19   & 319  &  92  & 1    & 44   & 11   & 1    & 1   \\\\\n",
       "\t Low  & 132  &  61  &  0   & 263  & 125  & 1    & 41   & 12   & 0    & 0   \\\\\n",
       "\t Low  & 133  &  88  &  3   & 105  & 119  & 1    & 79   & 12   & 1    & 1   \\\\\n",
       "\t Low  & 125  & 111  &  0   & 404  & 107  & 0    & 54   & 15   & 1    & 0   \\\\\n",
       "\t High & 106  &  64  & 10   &  17  &  89  & 1    & 68   & 17   & 1    & 1   \\\\\n",
       "\t Low  & 124  &  65  & 21   & 496  & 151  & 0    & 77   & 13   & 1    & 1   \\\\\n",
       "\t Low  & 121  &  28  & 19   & 315  & 121  & 1    & 66   & 14   & 1    & 1   \\\\\n",
       "\t High &  98  & 117  &  0   &  76  &  68  & 1    & 63   & 10   & 1    & 0   \\\\\n",
       "\t High & 123  &  37  & 15   & 348  & 112  & 1    & 28   & 12   & 1    & 1   \\\\\n",
       "\t Low  & 131  &  73  & 13   & 455  & 132  & 1    & 62   & 17   & 1    & 1   \\\\\n",
       "\t Low  & 152  & 116  &  0   & 170  & 160  & 1    & 39   & 16   & 1    & 0   \\\\\n",
       "\t High & 142  &  73  & 14   & 238  & 115  & 1    & 73   & 14   & 0    & 1   \\\\\n",
       "\t High & 135  &  89  & 11   & 245  &  78  & 0    & 79   & 16   & 1    & 1   \\\\\n",
       "\t High & 128  &  42  &  8   & 328  & 107  & 1    & 35   & 12   & 1    & 1   \\\\\n",
       "\t Low  & 108  &  75  &  9   &  61  & 111  & 1    & 67   & 12   & 1    & 1   \\\\\n",
       "\t Low  & 153  &  63  &  0   &  49  & 124  & 0    & 56   & 16   & 1    & 0   \\\\\n",
       "\t Low  & 129  &  42  & 13   & 315  & 130  & 0    & 34   & 13   & 1    & 1   \\\\\n",
       "\t Low  & 109  &  51  & 10   &  26  & 120  & 1    & 30   & 17   & 0    & 1   \\\\\n",
       "\t Low  & 130  &  58  & 19   & 366  & 139  & 0    & 33   & 16   & 1    & 1   \\\\\n",
       "\t High & 138  & 108  & 17   & 203  & 128  & 1    & 33   & 14   & 1    & 1   \\\\\n",
       "\t Low  & 139  &  23  &  3   &  37  & 120  & 1    & 55   & 11   & 0    & 1   \\\\\n",
       "\t Low  & 162  &  26  & 12   & 368  & 159  & 1    & 40   & 18   & 1    & 1   \\\\\n",
       "\t Low  & 100  &  79  &  7   & 284  &  95  & 0    & 50   & 12   & 1    & 1   \\\\\n",
       "\t High & 134  &  37  &  0   &  27  & 120  & 1    & 49   & 16   & 1    & 1   \\\\\n",
       "\\end{tabular}\n"
      ],
      "text/markdown": [
       "\n",
       "| Sales | CompPrice | Income | Advertising | Population | Price | ShelveLoc | Age | Education | Urban | US |\n",
       "|---|---|---|---|---|---|---|---|---|---|---|\n",
       "| High | 138  |  73  | 11   | 276  | 120  | 0    | 42   | 17   | 1    | 1    |\n",
       "| High | 111  |  48  | 16   | 260  |  83  | 1    | 65   | 10   | 1    | 1    |\n",
       "| High | 113  |  35  | 10   | 269  |  80  | 1    | 59   | 12   | 1    | 1    |\n",
       "| Low  | 117  | 100  |  4   | 466  |  97  | 1    | 55   | 14   | 1    | 1    |\n",
       "| Low  | 141  |  64  |  3   | 340  | 128  | 0    | 38   | 13   | 1    | 0    |\n",
       "| High | 124  | 113  | 13   | 501  |  72  | 0    | 78   | 16   | 0    | 1    |\n",
       "| Low  | 115  | 105  |  0   |  45  | 108  | 1    | 71   | 15   | 1    | 0    |\n",
       "| High | 136  |  81  | 15   | 425  | 120  | 1    | 67   | 10   | 1    | 1    |\n",
       "| Low  | 132  | 110  |  0   | 108  | 124  | 1    | 76   | 10   | 0    | 0    |\n",
       "| Low  | 132  | 113  |  0   | 131  | 124  | 1    | 76   | 17   | 0    | 1    |\n",
       "| High | 121  |  78  |  9   | 150  | 100  | 0    | 26   | 10   | 0    | 1    |\n",
       "| High | 117  |  94  |  4   | 503  |  94  | 1    | 50   | 13   | 1    | 1    |\n",
       "| Low  | 122  |  35  |  2   | 393  | 136  | 1    | 62   | 18   | 1    | 0    |\n",
       "| High | 115  |  28  | 11   |  29  |  86  | 1    | 53   | 18   | 1    | 1    |\n",
       "| High | 107  | 117  | 11   | 148  | 118  | 1    | 52   | 18   | 1    | 1    |\n",
       "| High | 149  |  95  |  5   | 400  | 144  | 1    | 76   | 18   | 0    | 0    |\n",
       "| High | 118  |  32  |  0   | 284  | 110  | 1    | 63   | 13   | 1    | 0    |\n",
       "| High | 147  |  74  | 13   | 251  | 131  | 1    | 52   | 10   | 1    | 1    |\n",
       "| High | 110  | 110  |  0   | 408  |  68  | 1    | 46   | 17   | 0    | 1    |\n",
       "| High | 129  |  76  | 16   |  58  | 121  | 1    | 69   | 12   | 1    | 1    |\n",
       "| Low  | 125  |  90  |  2   | 367  | 131  | 1    | 35   | 18   | 1    | 1    |\n",
       "| High | 134  |  29  | 12   | 239  | 109  | 1    | 62   | 18   | 0    | 1    |\n",
       "| Low  | 128  |  46  |  6   | 497  | 138  | 1    | 42   | 13   | 1    | 0    |\n",
       "| Low  | 121  |  31  |  0   | 292  | 109  | 1    | 79   | 10   | 1    | 0    |\n",
       "| High | 145  | 119  | 16   | 294  | 113  | 0    | 42   | 12   | 1    | 1    |\n",
       "| High | 139  |  32  |  0   | 176  |  82  | 1    | 54   | 11   | 0    | 0    |\n",
       "| High | 107  | 115  | 11   | 496  | 131  | 1    | 50   | 11   | 0    | 1    |\n",
       "| Low  |  98  | 118  |  0   |  19  | 107  | 1    | 64   | 17   | 1    | 0    |\n",
       "| Low  | 103  |  74  |  0   | 359  |  97  | 0    | 55   | 11   | 1    | 1    |\n",
       "| High | 104  |  99  | 15   | 226  | 102  | 0    | 58   | 17   | 1    | 1    |\n",
       "| ... | ... | ... | ... | ... | ... | ... | ... | ... | ... | ... |\n",
       "| High | 126  |  41  | 22   | 403  | 119  | 0    | 42   | 12   | 1    | 1    |\n",
       "| High | 152  |  81  |  0   | 191  | 126  | 1    | 54   | 16   | 1    | 0    |\n",
       "| High | 121  |  50  |  0   | 508  |  98  | 1    | 65   | 11   | 0    | 0    |\n",
       "| Low  | 137  |  71  |  0   | 402  | 116  | 1    | 78   | 17   | 1    | 0    |\n",
       "| High | 131  |  47  |  7   |  90  | 118  | 1    | 47   | 12   | 1    | 1    |\n",
       "| High | 132  |  46  |  4   | 206  | 124  | 1    | 73   | 11   | 1    | 0    |\n",
       "| High | 141  |  60  | 19   | 319  |  92  | 1    | 44   | 11   | 1    | 1    |\n",
       "| Low  | 132  |  61  |  0   | 263  | 125  | 1    | 41   | 12   | 0    | 0    |\n",
       "| Low  | 133  |  88  |  3   | 105  | 119  | 1    | 79   | 12   | 1    | 1    |\n",
       "| Low  | 125  | 111  |  0   | 404  | 107  | 0    | 54   | 15   | 1    | 0    |\n",
       "| High | 106  |  64  | 10   |  17  |  89  | 1    | 68   | 17   | 1    | 1    |\n",
       "| Low  | 124  |  65  | 21   | 496  | 151  | 0    | 77   | 13   | 1    | 1    |\n",
       "| Low  | 121  |  28  | 19   | 315  | 121  | 1    | 66   | 14   | 1    | 1    |\n",
       "| High |  98  | 117  |  0   |  76  |  68  | 1    | 63   | 10   | 1    | 0    |\n",
       "| High | 123  |  37  | 15   | 348  | 112  | 1    | 28   | 12   | 1    | 1    |\n",
       "| Low  | 131  |  73  | 13   | 455  | 132  | 1    | 62   | 17   | 1    | 1    |\n",
       "| Low  | 152  | 116  |  0   | 170  | 160  | 1    | 39   | 16   | 1    | 0    |\n",
       "| High | 142  |  73  | 14   | 238  | 115  | 1    | 73   | 14   | 0    | 1    |\n",
       "| High | 135  |  89  | 11   | 245  |  78  | 0    | 79   | 16   | 1    | 1    |\n",
       "| High | 128  |  42  |  8   | 328  | 107  | 1    | 35   | 12   | 1    | 1    |\n",
       "| Low  | 108  |  75  |  9   |  61  | 111  | 1    | 67   | 12   | 1    | 1    |\n",
       "| Low  | 153  |  63  |  0   |  49  | 124  | 0    | 56   | 16   | 1    | 0    |\n",
       "| Low  | 129  |  42  | 13   | 315  | 130  | 0    | 34   | 13   | 1    | 1    |\n",
       "| Low  | 109  |  51  | 10   |  26  | 120  | 1    | 30   | 17   | 0    | 1    |\n",
       "| Low  | 130  |  58  | 19   | 366  | 139  | 0    | 33   | 16   | 1    | 1    |\n",
       "| High | 138  | 108  | 17   | 203  | 128  | 1    | 33   | 14   | 1    | 1    |\n",
       "| Low  | 139  |  23  |  3   |  37  | 120  | 1    | 55   | 11   | 0    | 1    |\n",
       "| Low  | 162  |  26  | 12   | 368  | 159  | 1    | 40   | 18   | 1    | 1    |\n",
       "| Low  | 100  |  79  |  7   | 284  |  95  | 0    | 50   | 12   | 1    | 1    |\n",
       "| High | 134  |  37  |  0   |  27  | 120  | 1    | 49   | 16   | 1    | 1    |\n",
       "\n"
      ],
      "text/plain": [
       "    Sales CompPrice Income Advertising Population Price ShelveLoc Age Education\n",
       "1   High  138        73    11          276        120   0         42  17       \n",
       "2   High  111        48    16          260         83   1         65  10       \n",
       "3   High  113        35    10          269         80   1         59  12       \n",
       "4   Low   117       100     4          466         97   1         55  14       \n",
       "5   Low   141        64     3          340        128   0         38  13       \n",
       "6   High  124       113    13          501         72   0         78  16       \n",
       "7   Low   115       105     0           45        108   1         71  15       \n",
       "8   High  136        81    15          425        120   1         67  10       \n",
       "9   Low   132       110     0          108        124   1         76  10       \n",
       "10  Low   132       113     0          131        124   1         76  17       \n",
       "11  High  121        78     9          150        100   0         26  10       \n",
       "12  High  117        94     4          503         94   1         50  13       \n",
       "13  Low   122        35     2          393        136   1         62  18       \n",
       "14  High  115        28    11           29         86   1         53  18       \n",
       "15  High  107       117    11          148        118   1         52  18       \n",
       "16  High  149        95     5          400        144   1         76  18       \n",
       "17  High  118        32     0          284        110   1         63  13       \n",
       "18  High  147        74    13          251        131   1         52  10       \n",
       "19  High  110       110     0          408         68   1         46  17       \n",
       "20  High  129        76    16           58        121   1         69  12       \n",
       "21  Low   125        90     2          367        131   1         35  18       \n",
       "22  High  134        29    12          239        109   1         62  18       \n",
       "23  Low   128        46     6          497        138   1         42  13       \n",
       "24  Low   121        31     0          292        109   1         79  10       \n",
       "25  High  145       119    16          294        113   0         42  12       \n",
       "26  High  139        32     0          176         82   1         54  11       \n",
       "27  High  107       115    11          496        131   1         50  11       \n",
       "28  Low    98       118     0           19        107   1         64  17       \n",
       "29  Low   103        74     0          359         97   0         55  11       \n",
       "30  High  104        99    15          226        102   0         58  17       \n",
       "... ...   ...       ...    ...         ...        ...   ...       ... ...      \n",
       "371 High  126        41    22          403        119   0         42  12       \n",
       "372 High  152        81     0          191        126   1         54  16       \n",
       "373 High  121        50     0          508         98   1         65  11       \n",
       "374 Low   137        71     0          402        116   1         78  17       \n",
       "375 High  131        47     7           90        118   1         47  12       \n",
       "376 High  132        46     4          206        124   1         73  11       \n",
       "377 High  141        60    19          319         92   1         44  11       \n",
       "378 Low   132        61     0          263        125   1         41  12       \n",
       "379 Low   133        88     3          105        119   1         79  12       \n",
       "380 Low   125       111     0          404        107   0         54  15       \n",
       "381 High  106        64    10           17         89   1         68  17       \n",
       "382 Low   124        65    21          496        151   0         77  13       \n",
       "383 Low   121        28    19          315        121   1         66  14       \n",
       "384 High   98       117     0           76         68   1         63  10       \n",
       "385 High  123        37    15          348        112   1         28  12       \n",
       "386 Low   131        73    13          455        132   1         62  17       \n",
       "387 Low   152       116     0          170        160   1         39  16       \n",
       "388 High  142        73    14          238        115   1         73  14       \n",
       "389 High  135        89    11          245         78   0         79  16       \n",
       "390 High  128        42     8          328        107   1         35  12       \n",
       "391 Low   108        75     9           61        111   1         67  12       \n",
       "392 Low   153        63     0           49        124   0         56  16       \n",
       "393 Low   129        42    13          315        130   0         34  13       \n",
       "394 Low   109        51    10           26        120   1         30  17       \n",
       "395 Low   130        58    19          366        139   0         33  16       \n",
       "396 High  138       108    17          203        128   1         33  14       \n",
       "397 Low   139        23     3           37        120   1         55  11       \n",
       "398 Low   162        26    12          368        159   1         40  18       \n",
       "399 Low   100        79     7          284         95   0         50  12       \n",
       "400 High  134        37     0           27        120   1         49  16       \n",
       "    Urban US \n",
       "1   1     1  \n",
       "2   1     1  \n",
       "3   1     1  \n",
       "4   1     1  \n",
       "5   1     0  \n",
       "6   0     1  \n",
       "7   1     0  \n",
       "8   1     1  \n",
       "9   0     0  \n",
       "10  0     1  \n",
       "11  0     1  \n",
       "12  1     1  \n",
       "13  1     0  \n",
       "14  1     1  \n",
       "15  1     1  \n",
       "16  0     0  \n",
       "17  1     0  \n",
       "18  1     1  \n",
       "19  0     1  \n",
       "20  1     1  \n",
       "21  1     1  \n",
       "22  0     1  \n",
       "23  1     0  \n",
       "24  1     0  \n",
       "25  1     1  \n",
       "26  0     0  \n",
       "27  0     1  \n",
       "28  1     0  \n",
       "29  1     1  \n",
       "30  1     1  \n",
       "... ...   ...\n",
       "371 1     1  \n",
       "372 1     0  \n",
       "373 0     0  \n",
       "374 1     0  \n",
       "375 1     1  \n",
       "376 1     0  \n",
       "377 1     1  \n",
       "378 0     0  \n",
       "379 1     1  \n",
       "380 1     0  \n",
       "381 1     1  \n",
       "382 1     1  \n",
       "383 1     1  \n",
       "384 1     0  \n",
       "385 1     1  \n",
       "386 1     1  \n",
       "387 1     0  \n",
       "388 0     1  \n",
       "389 1     1  \n",
       "390 1     1  \n",
       "391 1     1  \n",
       "392 1     0  \n",
       "393 1     1  \n",
       "394 0     1  \n",
       "395 1     1  \n",
       "396 1     1  \n",
       "397 0     1  \n",
       "398 1     1  \n",
       "399 1     1  \n",
       "400 1     1  "
      ]
     },
     "metadata": {},
     "output_type": "display_data"
    }
   ],
   "source": [
    "#1.Your task is to predict whether the sales will be High or Low.\n",
    "#install.packages('neuralnet')\n",
    "#library(neuralnet)\n",
    "#library(tidyverse)\n",
    "DATA <- Data\n",
    "DATA"
   ]
  },
  {
   "cell_type": "code",
   "execution_count": 16,
   "id": "60bf55bf",
   "metadata": {
    "scrolled": true
   },
   "outputs": [],
   "source": [
    "#2.Perform necessary data transformations as required\n",
    "#library(tidyverse)\n",
    "normalize <- function(x){\n",
    "    return(x-min(x) / max(x)-min(x))\n",
    "}\n",
    "DATA <- Carseats[complete.cases(Carseats), ]\n",
    "DATA <- DATA %>% select_if(is.numeric)\n",
    "DfNorm <- as.data.frame(lapply(DATA,normalize))"
   ]
  },
  {
   "cell_type": "code",
   "execution_count": 18,
   "id": "96f1aa45",
   "metadata": {},
   "outputs": [],
   "source": [
    "#library(neuralnet)"
   ]
  },
  {
   "cell_type": "code",
   "execution_count": 19,
   "id": "343692b8",
   "metadata": {},
   "outputs": [],
   "source": [
    "#3.Generate neural network with 3 layers and 2,3,4 nodes respectively.\n",
    "n <- nrow(DATA)\n",
    "smp_size <- floor (0.7 * n)\n",
    "set.seed(123)\n",
    "index <- sample(seq_len(n),size = smp_size)\n",
    "train <- DfNorm[index,]\n",
    "test <- DfNorm[-index,]\n",
    "#f = as.formula(Sales ~ Income + Advertising + Population + Price + Age)\n",
    "nn <- neuralnet(Sales ~ Income + Advertising + Population + Price + Age, data = train, hidden = c(2,3,4),act.fct = \"logistic\"\n",
    "                ,linear.output = TRUE )"
   ]
  },
  {
   "cell_type": "code",
   "execution_count": 14,
   "id": "4b064f45",
   "metadata": {},
   "outputs": [
    {
     "data": {
      "image/png": "[encoded data removed]",
      "text/plain": [
       "plot without title"
      ]
     },
     "metadata": {},
     "output_type": "display_data"
    }
   ],
   "source": [
    "#4.Plot the nn.\n",
    "plot(nn,rep = \"best\")\n"
   ]
  },
  {
   "cell_type": "markdown",
   "id": "7b94d565",
   "metadata": {},
   "source": [
    "### Good Job! You are done with the section!"
   ]
  },
  {
   "cell_type": "markdown",
   "id": "952e049c",
   "metadata": {},
   "source": [
    "## Section 6: Performance Evaluation"
   ]
  },
  {
   "cell_type": "markdown",
   "id": "ba8ebe1d",
   "metadata": {},
   "source": [
    "# Question 1\n",
    "#### For the above decision tree, logistic regression and neural network models:\n",
    "\n",
    "1. Construct a confusion matrix.\n",
    "2. Plot out the ROC and AUC cruves.\n",
    "3. For the datasets of Carseats, which model produced the highest accuracy with lowest variance?"
   ]
  },
  {
   "cell_type": "code",
   "execution_count": 13,
   "id": "17d01290",
   "metadata": {},
   "outputs": [
    {
     "data": {
      "text/plain": [
       "Confusion Matrix and Statistics\n",
       "\n",
       "          Reference\n",
       "Prediction High Low\n",
       "      High  155  23\n",
       "      Low    43 179\n",
       "                                        \n",
       "               Accuracy : 0.835         \n",
       "                 95% CI : (0.7949, 0.87)\n",
       "    No Information Rate : 0.505         \n",
       "    P-Value [Acc > NIR] : < 2e-16       \n",
       "                                        \n",
       "                  Kappa : 0.6696        \n",
       "                                        \n",
       " Mcnemar's Test P-Value : 0.01935       \n",
       "                                        \n",
       "            Sensitivity : 0.7828        \n",
       "            Specificity : 0.8861        \n",
       "         Pos Pred Value : 0.8708        \n",
       "         Neg Pred Value : 0.8063        \n",
       "             Prevalence : 0.4950        \n",
       "         Detection Rate : 0.3875        \n",
       "   Detection Prevalence : 0.4450        \n",
       "      Balanced Accuracy : 0.8345        \n",
       "                                        \n",
       "       'Positive' Class : High          \n",
       "                                        "
      ]
     },
     "metadata": {},
     "output_type": "display_data"
    }
   ],
   "source": [
    "#For the above decision tree\n",
    "#1.Construct a confusion matrix.\n",
    "#library(caret)\n",
    "#install.packages(\"e1071\")\n",
    "#library(e1071)\n",
    "result <- confusionMatrix(Predicted_data,Data$Sales)\n",
    "result"
   ]
  },
  {
   "cell_type": "code",
   "execution_count": 20,
   "id": "99254622",
   "metadata": {},
   "outputs": [
    {
     "data": {
      "text/plain": [
       "Confusion Matrix and Statistics\n",
       "\n",
       "          Reference\n",
       "Prediction Down  Up\n",
       "      Down  600 647\n",
       "      Up      2   1\n",
       "                                          \n",
       "               Accuracy : 0.4808          \n",
       "                 95% CI : (0.4528, 0.5089)\n",
       "    No Information Rate : 0.5184          \n",
       "    P-Value [Acc > NIR] : 0.9964          \n",
       "                                          \n",
       "                  Kappa : -0.0017         \n",
       "                                          \n",
       " Mcnemar's Test P-Value : <2e-16          \n",
       "                                          \n",
       "            Sensitivity : 0.996678        \n",
       "            Specificity : 0.001543        \n",
       "         Pos Pred Value : 0.481155        \n",
       "         Neg Pred Value : 0.333333        \n",
       "             Prevalence : 0.481600        \n",
       "         Detection Rate : 0.480000        \n",
       "   Detection Prevalence : 0.997600        \n",
       "      Balanced Accuracy : 0.499110        \n",
       "                                          \n",
       "       'Positive' Class : Down            \n",
       "                                          "
      ]
     },
     "metadata": {},
     "output_type": "display_data"
    }
   ],
   "source": [
    "#For the above logistic regression models:\n",
    "#1.Construct a confusion matrix.\n",
    "glm_pred = rep(\"Up\",length(predicted_data))\n",
    "glm_pred[predicted_data < 0.5] = \"Down\"\n",
    "glm_pred = factor(glm_pred)\n",
    "confusionMatrix(glm_pred,Smarket$Direction)"
   ]
  },
  {
   "cell_type": "markdown",
   "id": "f4c75d4f",
   "metadata": {},
   "source": [
    "# Good Job! You are done with the course!"
   ]
  }
 ],
 "metadata": {
  "kernelspec": {
   "display_name": "R",
   "language": "R",
   "name": "ir"
  },
  "language_info": {
   "codemirror_mode": "r",
   "file_extension": ".r",
   "mimetype": "text/x-r-source",
   "name": "R",
   "pygments_lexer": "r",
   "version": "3.6.1"
  }
 },
 "nbformat": 4,
 "nbformat_minor": 5
}
